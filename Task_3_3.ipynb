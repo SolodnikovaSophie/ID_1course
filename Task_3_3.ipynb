{
 "cells": [
  {
   "cell_type": "markdown",
   "id": "74370b08-c7b5-463c-8d56-a1094377b404",
   "metadata": {},
   "source": [
    "# Задание 3\n",
    "Исследовать структуру xml-файлов, чтобы произвести парсинг всех данных. В каждом файле содержится информация об одном объекте из случайной предметной области. Полученные данные собрать и записать в json. Выполните также ряд операций с данными:\n",
    "* отсортируйте значения по одному из доступных полей\n",
    "* выполните фильтрацию по другому полю (запишите результат отдельно)\n",
    "* для одного выбранного числового поля посчитайте статистические характеристики (сумма, мин/макс, среднее и т.д.)\n",
    "* для одного текстового поля посчитайте частоту меток\n"
   ]
  },
  {
   "cell_type": "code",
   "execution_count": 41,
   "id": "5ab9c76d-fb6e-4bbc-87d9-52cac82b0105",
   "metadata": {},
   "outputs": [],
   "source": [
    "from bs4 import BeautifulSoup\n",
    "import numpy as np\n",
    "import json\n",
    "\n",
    "def handle_file(path):\n",
    "    with open(path, 'r', encoding=\"utf-8\") as f:\n",
    "        xml_file = f.read()\n",
    "\n",
    "    star = BeautifulSoup(xml_file, 'xml').star\n",
    "    item = {}\n",
    "    for el in star:\n",
    "        if el.name is None:\n",
    "            continue\n",
    "        item[el.name] = el.get_text().strip()\n",
    "\n",
    "    item['radius'] = int(item['radius'])\n",
    "\n",
    "    return item\n",
    "\n",
    "items = []\n",
    "for i in range(1, 151):\n",
    "    file_name = fr\"C:\\Users\\ipavl\\Учеба_УРФУ\\1_курс\\1_семестр\\ИД\\Practice_3\\86\\3\\{i}.xml\"\n",
    "    result = handle_file(file_name)\n",
    "    items.append(result)\n",
    "\n",
    "with open('result_3.json', 'w', encoding=\"utf-8\") as f:\n",
    "    json.dump(items, f, ensure_ascii=False)\n",
    "    \n",
    "# print(handle_file(r\"C:\\Users\\ipavl\\Учеба_УРФУ\\1_курс\\1_семестр\\ИД\\Practice_3\\86\\3\\1.xml\"))"
   ]
  },
  {
   "cell_type": "code",
   "execution_count": 43,
   "id": "8212faf0-4e89-474f-8b36-1c4e4d697113",
   "metadata": {},
   "outputs": [],
   "source": [
    "#Сортировка по price\n",
    "\n",
    "items_filtered = sorted(items, key = lambda x: x['radius'], reverse = True)\n",
    "\n",
    "with open('result_3_filtered.json', 'w', encoding=\"utf-8\") as f:\n",
    "    json.dump(items_filtered, f, ensure_ascii=False)"
   ]
  },
  {
   "cell_type": "code",
   "execution_count": 45,
   "id": "ecba7d1c-810f-4652-8f11-7cbaaf5be0d3",
   "metadata": {},
   "outputs": [
    {
     "name": "stdout",
     "output_type": "stream",
     "text": [
      "[{'name': 'Альфа Центавра 1468', 'constellation': 'Козерог', 'spectral-class': 'N6Z', 'radius': 63399990, 'rotation': '323.71 days', 'age': '1.13 billion years', 'distance': '4691436.48 million km', 'absolute-magnitude': '8.91 million km'}, {'name': 'Вега 6104', 'constellation': 'Козерог', 'spectral-class': 'S3Y', 'radius': 27640199, 'rotation': '616.03 days', 'age': '5.72 billion years', 'distance': '8648134.45 million km', 'absolute-magnitude': '1.03 million km'}, {'name': 'Вега 7722', 'constellation': 'Козерог', 'spectral-class': 'I4N', 'radius': 234747256, 'rotation': '784.42 days', 'age': '3.47 billion years', 'distance': '8533140.62 million km', 'absolute-magnitude': '4.89 million km'}, {'name': 'Антарес 1227', 'constellation': 'Козерог', 'spectral-class': 'R4E', 'radius': 797116245, 'rotation': '506.06 days', 'age': '4.46 billion years', 'distance': '24519.69 million km', 'absolute-magnitude': '1.34 million km'}, {'name': 'Канопус 6491', 'constellation': 'Козерог', 'spectral-class': 'S4I', 'radius': 573130477, 'rotation': '345.15 days', 'age': '4.91 billion years', 'distance': '8148301.35 million km', 'absolute-magnitude': '7.09 million km'}, {'name': 'Акрукс 1096', 'constellation': 'Козерог', 'spectral-class': 'O5H', 'radius': 90252239, 'rotation': '450.75 days', 'age': '0.56 billion years', 'distance': '4870495.14 million km', 'absolute-magnitude': '2.52 million km'}, {'name': 'Ригель 7750', 'constellation': 'Козерог', 'spectral-class': 'R9F', 'radius': 757998688, 'rotation': '793.41 days', 'age': '5.78 billion years', 'distance': '2190599.97 million km', 'absolute-magnitude': '5.62 million km'}, {'name': 'Полярная звезда 8948', 'constellation': 'Козерог', 'spectral-class': 'N6M', 'radius': 624190488, 'rotation': '106.12 days', 'age': '2.34 billion years', 'distance': '7672021.9 million km', 'absolute-magnitude': '1.64 million km'}, {'name': 'Альфа Центавра 9946', 'constellation': 'Козерог', 'spectral-class': 'Z2X', 'radius': 142952031, 'rotation': '512.52 days', 'age': '5.54 billion years', 'distance': '3603015.33 million km', 'absolute-magnitude': '4.02 million km'}, {'name': 'Фомальгаут 1800', 'constellation': 'Козерог', 'spectral-class': 'I0I', 'radius': 956374817, 'rotation': '562.63 days', 'age': '2.6 billion years', 'distance': '486522.2 million km', 'absolute-magnitude': '2.59 million km'}, {'name': 'Канопус 6178', 'constellation': 'Козерог', 'spectral-class': 'G4G', 'radius': 34992826, 'rotation': '493.07 days', 'age': '2.29 billion years', 'distance': '333907.0 million km', 'absolute-magnitude': '9.7 million km'}, {'name': 'Фомальгаут 6934', 'constellation': 'Козерог', 'spectral-class': 'N3Z', 'radius': 759847097, 'rotation': '457.99 days', 'age': '4.73 billion years', 'distance': '5772635.13 million km', 'absolute-magnitude': '8.89 million km'}]\n"
     ]
    }
   ],
   "source": [
    "constellation = [item for item in items if item['constellation'] == 'Козерог']\n",
    "others = [item for item in items if item['constellation'] != 'Козерог']\n",
    "\n",
    "with open('result_3_constallation.json', 'w', encoding=\"utf-8\") as f:\n",
    "    json.dump(constellation, f, ensure_ascii=False)\n",
    "\n",
    "with open('result_3_other.json', 'w', encoding=\"utf-8\") as f:\n",
    "    json.dump(others, f, ensure_ascii=False)\n",
    "print(constellation)"
   ]
  },
  {
   "cell_type": "code",
   "execution_count": 46,
   "id": "c18753ea-feab-486e-a041-6cf831a238d9",
   "metadata": {},
   "outputs": [
    {
     "name": "stdout",
     "output_type": "stream",
     "text": [
      "{'Максимальное значение': 989925840, 'Минимальное значение': 6691860, 'Сумма значений': 73772160042, 'Среднее арифметическое значение': 491814400}\n"
     ]
    }
   ],
   "source": [
    "radius_stat = np.array([item['radius'] for item in items])\n",
    "\n",
    "radius_stats = {\n",
    "    \"Максимальное значение\": int(np.max(radius_stat)),\n",
    "    \"Минимальное значение\": int(np.min(radius_stat)),\n",
    "    \"Сумма значений\": int(np.sum(radius_stat)),\n",
    "    \"Среднее арифметическое значение\": int(np.mean(radius_stat))\n",
    "}\n",
    "\n",
    "with open('radius_stats_2.json', 'w', encoding=\"utf-8\") as f:\n",
    "    json.dump(radius_stats, f, ensure_ascii=False)\n",
    "\n",
    "print(radius_stats)"
   ]
  },
  {
   "cell_type": "code",
   "execution_count": 36,
   "id": "0091bff3-2145-491a-a56e-77b0594a9559",
   "metadata": {},
   "outputs": [
    {
     "name": "stdout",
     "output_type": "stream",
     "text": [
      "{np.str_('Весы'): 11, np.str_('Стрелец'): 13, np.str_('Рак'): 14, np.str_('Близнецы'): 12, np.str_('Водолей'): 14, np.str_('Козерог'): 12, np.str_('Телец'): 13, np.str_('Дева'): 13, np.str_('Скорпион'): 13, np.str_('Овен'): 7, np.str_('Рыбы'): 15, np.str_('Лев'): 13}\n"
     ]
    }
   ],
   "source": [
    "title_freq = np.array([item['constellation'] for item in items])\n",
    "\n",
    "word_freq = {}\n",
    "for word in title_freq:\n",
    "    if word in word_freq:\n",
    "        word_freq[word] += 1\n",
    "    else:\n",
    "        word_freq[word] = 1\n",
    "        \n",
    "with open('word_freq_3.json', 'w', encoding=\"utf-8\") as f:\n",
    "    json.dump(word_freq, f, ensure_ascii=False)\n",
    "\n",
    "print(word_freq)"
   ]
  }
 ],
 "metadata": {
  "kernelspec": {
   "display_name": "Python 3 (ipykernel)",
   "language": "python",
   "name": "python3"
  },
  "language_info": {
   "codemirror_mode": {
    "name": "ipython",
    "version": 3
   },
   "file_extension": ".py",
   "mimetype": "text/x-python",
   "name": "python",
   "nbconvert_exporter": "python",
   "pygments_lexer": "ipython3",
   "version": "3.12.2"
  }
 },
 "nbformat": 4,
 "nbformat_minor": 5
}
