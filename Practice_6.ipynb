{
 "cells": [
  {
   "cell_type": "code",
   "execution_count": 41,
   "id": "a6d6e37f-6456-4cac-8009-ef46e9e2b529",
   "metadata": {},
   "outputs": [],
   "source": [
    "import pandas as pd\n",
    "import json\n",
    "import os "
   ]
  },
  {
   "cell_type": "code",
   "execution_count": 81,
   "id": "eecc829d-9141-4336-91d9-05a75d6b64c8",
   "metadata": {},
   "outputs": [
    {
     "name": "stdout",
     "output_type": "stream",
     "text": [
      "                id                 date  client_id  card_id   amount  \\\n",
      "0          7475327  2010-01-01 00:01:00       1556     2972  $-77.00   \n",
      "1          7475328  2010-01-01 00:02:00        561     4575   $14.57   \n",
      "2          7475329  2010-01-01 00:02:00       1129      102   $80.00   \n",
      "3          7475331  2010-01-01 00:05:00        430     2860  $200.00   \n",
      "4          7475332  2010-01-01 00:06:00        848     3915   $46.41   \n",
      "...            ...                  ...        ...      ...      ...   \n",
      "13305910  23761868  2019-10-31 23:56:00       1718     2379    $1.11   \n",
      "13305911  23761869  2019-10-31 23:56:00       1766     2066   $12.80   \n",
      "13305912  23761870  2019-10-31 23:57:00        199     1031   $40.44   \n",
      "13305913  23761873  2019-10-31 23:58:00       1986     5443    $4.00   \n",
      "13305914  23761874  2019-10-31 23:59:00        489     5697   $12.88   \n",
      "\n",
      "                    use_chip  merchant_id merchant_city merchant_state  \\\n",
      "0          Swipe Transaction        59935        Beulah             ND   \n",
      "1          Swipe Transaction        67570    Bettendorf             IA   \n",
      "2          Swipe Transaction        27092         Vista             CA   \n",
      "3          Swipe Transaction        27092   Crown Point             IN   \n",
      "4          Swipe Transaction        13051       Harwood             MD   \n",
      "...                      ...          ...           ...            ...   \n",
      "13305910    Chip Transaction        86438   West Covina             CA   \n",
      "13305911  Online Transaction        39261        ONLINE            NaN   \n",
      "13305912   Swipe Transaction         2925         Allen             TX   \n",
      "13305913    Chip Transaction        46284     Daly City             CA   \n",
      "13305914    Chip Transaction        24658    Greenbrier             TN   \n",
      "\n",
      "              zip   mcc errors  \n",
      "0         58523.0  5499    NaN  \n",
      "1         52722.0  5311    NaN  \n",
      "2         92084.0  4829    NaN  \n",
      "3         46307.0  4829    NaN  \n",
      "4         20776.0  5813    NaN  \n",
      "...           ...   ...    ...  \n",
      "13305910  91792.0  5499    NaN  \n",
      "13305911      NaN  5815    NaN  \n",
      "13305912  75002.0  4900    NaN  \n",
      "13305913  94014.0  5411    NaN  \n",
      "13305914  37073.0  5921    NaN  \n",
      "\n",
      "[13305915 rows x 12 columns]\n"
     ]
    }
   ],
   "source": [
    "# Читаем файл \n",
    "data = pd.read_csv('archive.zip', compression=\"zip\")\n",
    "print(data)"
   ]
  },
  {
   "cell_type": "code",
   "execution_count": 82,
   "id": "cd5bf169-d9b6-466b-80a4-4515755f35cd",
   "metadata": {},
   "outputs": [
    {
     "name": "stdout",
     "output_type": "stream",
     "text": [
      "File Size (Bytes): 322644658 B\n",
      "File Size (KB): 315082.67 KB\n",
      "File Size (MB): 307.70 MB\n"
     ]
    }
   ],
   "source": [
    "# a. Объем памяти, который занимает файл на диске\n",
    "file_path = r\"C:/Users/ipavl/Учеба_УРФУ/1_курс/1_семестр/ИД/Practice_6/archive.zip\" \n",
    "file_info = os.stat(file_path)\n",
    "file_size_bytes = file_info.st_size\n",
    "\n",
    "# Conversion to kilobytes, megabytes, and gigabytes\n",
    "file_size_kb = file_size_bytes / 1024\n",
    "file_size_mb = file_size_kb / 1024\n",
    "\n",
    "print(f\"File Size (Bytes): {file_size_bytes} B\")\n",
    "print(f\"File Size (KB): {file_size_kb:.2f} KB\")\n",
    "print(f\"File Size (MB): {file_size_mb:.2f} MB\")"
   ]
  },
  {
   "cell_type": "code",
   "execution_count": 83,
   "id": "2542ec59-d5b3-40bb-a4e8-3d94ac4bc1a0",
   "metadata": {},
   "outputs": [
    {
     "data": {
      "text/plain": [
       "'4766.50 MB'"
      ]
     },
     "execution_count": 83,
     "metadata": {},
     "output_type": "execute_result"
    }
   ],
   "source": [
    "# b.Объем памяти, который занимает набор данных при загрузке в память\n",
    "def mem_usage(pandas_obj):\n",
    "    if isinstance(pandas_obj, pd.DataFrame):\n",
    "        usage_b = pandas_obj.memory_usage(deep=True).sum()\n",
    "    else:  # предположим, что если это не датафрейм, то серия\n",
    "        usage_b = pandas_obj.memory_usage(deep=True)\n",
    "    usage_mb = usage_b / 1024 ** 2  # преобразуем байты в мегабайты\n",
    "    return \"{:03.2f} MB\".format(usage_mb)\n",
    "\n",
    "mem_usage(data)"
   ]
  },
  {
   "cell_type": "code",
   "execution_count": 86,
   "id": "9d62b372-1385-4426-bedb-40f34467880e",
   "metadata": {},
   "outputs": [
    {
     "name": "stdout",
     "output_type": "stream",
     "text": [
      "file in memory size =    4880892 KB\n",
      "date                          :     883595 KB:    18.1032% : object\n",
      "use_chip                      :     854460 KB:    17.5062% : object\n",
      "merchant_city                 :     748112 KB:    15.3274% : object\n",
      "amount                        :     714092 KB:    14.6304% : object\n",
      "merchant_state                :     634129 KB:    12.9921% : object\n",
      "errors                        :     422786 KB:     8.6621% : object\n",
      "id                            :     103952 KB:     2.1298% : int64\n",
      "client_id                     :     103952 KB:     2.1298% : int64\n",
      "card_id                       :     103952 KB:     2.1298% : int64\n",
      "merchant_id                   :     103952 KB:     2.1298% : int64\n",
      "zip                           :     103952 KB:     2.1298% : float64\n",
      "mcc                           :     103952 KB:     2.1298% : int64\n"
     ]
    }
   ],
   "source": [
    "#c.\tВычислить для каждой колонки занимаемый объем памяти, долю от общего объема, а также выяснить тип данных\n",
    "# Полученный набор данных отсортировать по занимаемому объему памяти. \n",
    "# Вывести в файл (json) данные по колонкам с пометкой, что это статистика по набору данных без применения оптимизаций.\n",
    "\n",
    "def get_memory_stat_by_column(data):\n",
    "    memory_usage_stat = data.memory_usage(deep=True)\n",
    "    total_memory_usage_kb = int(memory_usage_stat.sum() // 1024)\n",
    "    print(f\"file in memory size = {total_memory_usage_kb:10} KB\")\n",
    "    column_stat = []\n",
    "    for key in data.columns:\n",
    "        column_stat.append({\n",
    "            \"column_name\": key,\n",
    "            \"memory_abs\": int(memory_usage_stat[key] // 1024), #Explicit int conversion\n",
    "            \"memory_per\": round(memory_usage_stat[key] / memory_usage_stat.sum() * 100, 4),\n",
    "            \"dtype\": str(data[key].dtype)\n",
    "        })\n",
    "    column_stat.sort(key=lambda x: x['memory_abs'], reverse=True)\n",
    "\n",
    "    for column in column_stat:\n",
    "        print(\n",
    "            f\"{column['column_name']:30}: {column['memory_abs']:10} KB: {column['memory_per']:10}% : {column['dtype']}\")\n",
    "\n",
    "    return {\"total_memory_usage_kb\": total_memory_usage_kb, \"columns\": column_stat}\n",
    "\n",
    "result = get_memory_stat_by_column(data)\n",
    "with open('result.json', 'w') as f:\n",
    "    json.dump({\"memory_usage\": result}, f, indent=4)"
   ]
  },
  {
   "cell_type": "code",
   "execution_count": 96,
   "id": "9ffbdf22-edf9-4c68-8def-db4a422c3ab1",
   "metadata": {},
   "outputs": [],
   "source": [
    "optimized_dataset = data.copy()"
   ]
  },
  {
   "cell_type": "code",
   "execution_count": 97,
   "id": "e6d13ce6-078f-4d20-9c12-1d05bbdfdd2a",
   "metadata": {},
   "outputs": [
    {
     "name": "stdout",
     "output_type": "stream",
     "text": [
      "4157.40 MB\n",
      "582.22 MB\n",
      "                         date   amount            use_chip merchant_city  \\\n",
      "0         2010-01-01 00:01:00  $-77.00   Swipe Transaction        Beulah   \n",
      "1         2010-01-01 00:02:00   $14.57   Swipe Transaction    Bettendorf   \n",
      "2         2010-01-01 00:02:00   $80.00   Swipe Transaction         Vista   \n",
      "3         2010-01-01 00:05:00  $200.00   Swipe Transaction   Crown Point   \n",
      "4         2010-01-01 00:06:00   $46.41   Swipe Transaction       Harwood   \n",
      "...                       ...      ...                 ...           ...   \n",
      "13305910  2019-10-31 23:56:00    $1.11    Chip Transaction   West Covina   \n",
      "13305911  2019-10-31 23:56:00   $12.80  Online Transaction        ONLINE   \n",
      "13305912  2019-10-31 23:57:00   $40.44   Swipe Transaction         Allen   \n",
      "13305913  2019-10-31 23:58:00    $4.00    Chip Transaction     Daly City   \n",
      "13305914  2019-10-31 23:59:00   $12.88    Chip Transaction    Greenbrier   \n",
      "\n",
      "         merchant_state errors  \n",
      "0                    ND    NaN  \n",
      "1                    IA    NaN  \n",
      "2                    CA    NaN  \n",
      "3                    IN    NaN  \n",
      "4                    MD    NaN  \n",
      "...                 ...    ...  \n",
      "13305910             CA    NaN  \n",
      "13305911            NaN    NaN  \n",
      "13305912             TX    NaN  \n",
      "13305913             CA    NaN  \n",
      "13305914             TN    NaN  \n",
      "\n",
      "[13305915 rows x 6 columns]\n"
     ]
    }
   ],
   "source": [
    "# 4.\tПреобразовать все колонки с типом данных «object» в категориальные, если количество уникальных значений колонки составляет менее 50%.\n",
    "\n",
    "def opt_obj(data):\n",
    "    converted_obj = pd.DataFrame()\n",
    "    dataset_obj = data.select_dtypes(include=['object']).copy()\n",
    "\n",
    "    for col in dataset_obj.columns:\n",
    "        num_unique_values = len(dataset_obj[col].unique())\n",
    "        num_total_values = len(dataset_obj[col])\n",
    "        if num_unique_values / num_total_values < 0.5:\n",
    "            converted_obj.loc[:, col] = dataset_obj[col].astype('category')\n",
    "        else:\n",
    "            converted_obj.loc[:, col] = dataset_obj[col]\n",
    "\n",
    "    print(mem_usage(dataset_obj))\n",
    "    print(mem_usage(converted_obj))\n",
    "    return converted_obj\n",
    "\n",
    "converted_obj = opt_obj(data)\n",
    "print(converted_obj)"
   ]
  },
  {
   "cell_type": "code",
   "execution_count": 98,
   "id": "9d29b7fd-644e-4311-8b7e-c7f45bf8b16a",
   "metadata": {},
   "outputs": [
    {
     "name": "stdout",
     "output_type": "stream",
     "text": [
      "507.58 MB\n",
      "177.65 MB\n",
      "            before   after\n",
      "id           int64  uint32\n",
      "client_id    int64  uint16\n",
      "card_id      int64  uint16\n",
      "merchant_id  int64  uint32\n",
      "mcc          int64  uint16\n",
      "                id  client_id  card_id  merchant_id   mcc\n",
      "0          7475327       1556     2972        59935  5499\n",
      "1          7475328        561     4575        67570  5311\n",
      "2          7475329       1129      102        27092  4829\n",
      "3          7475331        430     2860        27092  4829\n",
      "4          7475332        848     3915        13051  5813\n",
      "...            ...        ...      ...          ...   ...\n",
      "13305910  23761868       1718     2379        86438  5499\n",
      "13305911  23761869       1766     2066        39261  5815\n",
      "13305912  23761870        199     1031         2925  4900\n",
      "13305913  23761873       1986     5443        46284  5411\n",
      "13305914  23761874        489     5697        24658  5921\n",
      "\n",
      "[13305915 rows x 5 columns]\n"
     ]
    }
   ],
   "source": [
    "# 5.\tПровести понижающее преобразование типов «int» колонок \n",
    "def opt_int(data):\n",
    "    dataset_int = data.select_dtypes(include=['int'])\n",
    "    \"\"\"\n",
    "    downcast:\n",
    "            - 'integer' or 'signed': smallest signed int dtype (min.: np.int8)\n",
    "            - 'unsigned': smallest unsigned int dtype (min.: np.uint8)\n",
    "            - 'float': smallest float dtype (min.: np.float32)\n",
    "    \"\"\"\n",
    "    converted_int = dataset_int.apply(pd.to_numeric, downcast='unsigned')\n",
    "    print(mem_usage(dataset_int))\n",
    "    print(mem_usage(converted_int))\n",
    "    #\n",
    "    compare_ints = pd.concat([dataset_int.dtypes, converted_int.dtypes], axis=1)\n",
    "    compare_ints.columns = ['before', 'after']\n",
    "    compare_ints.apply(pd.Series.value_counts)\n",
    "    print(compare_ints)\n",
    "\n",
    "    return converted_int\n",
    "\n",
    "converted_int = opt_int(data)\n",
    "print(converted_int)"
   ]
  },
  {
   "cell_type": "code",
   "execution_count": 99,
   "id": "b77ac8b3-2b20-476c-85af-3c8dc02f1096",
   "metadata": {},
   "outputs": [
    {
     "name": "stdout",
     "output_type": "stream",
     "text": [
      "101.52 MB\n",
      "50.76 MB\n",
      "      before    after\n",
      "zip  float64  float32\n",
      "              zip\n",
      "0         58523.0\n",
      "1         52722.0\n",
      "2         92084.0\n",
      "3         46307.0\n",
      "4         20776.0\n",
      "...           ...\n",
      "13305910  91792.0\n",
      "13305911      NaN\n",
      "13305912  75002.0\n",
      "13305913  94014.0\n",
      "13305914  37073.0\n",
      "\n",
      "[13305915 rows x 1 columns]\n"
     ]
    }
   ],
   "source": [
    "# 6.\tПровести понижающее преобразование типов «float» колонок\n",
    "def opt_float(data):\n",
    "    dataset_float = data.select_dtypes(include=['float'])\n",
    "    converted_float = dataset_float.apply(pd.to_numeric, downcast='float')\n",
    "\n",
    "    print(mem_usage(dataset_float))\n",
    "    print(mem_usage(converted_float))\n",
    "\n",
    "    compare_floats = pd.concat([dataset_float.dtypes, converted_float.dtypes], axis=1)\n",
    "    compare_floats.columns = ['before', 'after']\n",
    "    compare_floats.apply(pd.Series.value_counts)\n",
    "    print(compare_floats)\n",
    "\n",
    "    return converted_float\n",
    "\n",
    "converted_float = opt_float(data)\n",
    "print(converted_float)"
   ]
  },
  {
   "cell_type": "code",
   "execution_count": 100,
   "id": "10ce38ec-3e13-40e8-887d-fbdcd32769de",
   "metadata": {},
   "outputs": [],
   "source": [
    "optimized_dataset[converted_obj.columns] = converted_obj\n",
    "optimized_dataset[converted_int.columns] = converted_int\n",
    "optimized_dataset[converted_float.columns] = converted_float"
   ]
  },
  {
   "cell_type": "code",
   "execution_count": 101,
   "id": "533f8dd9-5399-42a8-98ba-ad4035fd60c5",
   "metadata": {},
   "outputs": [
    {
     "name": "stdout",
     "output_type": "stream",
     "text": [
      "file in memory size =    4880892 KB\n",
      "date                          :     883595 KB:    18.1032% : object\n",
      "use_chip                      :     854460 KB:    17.5062% : object\n",
      "merchant_city                 :     748112 KB:    15.3274% : object\n",
      "amount                        :     714092 KB:    14.6304% : object\n",
      "merchant_state                :     634129 KB:    12.9921% : object\n",
      "errors                        :     422786 KB:     8.6621% : object\n",
      "id                            :     103952 KB:     2.1298% : int64\n",
      "client_id                     :     103952 KB:     2.1298% : int64\n",
      "card_id                       :     103952 KB:     2.1298% : int64\n",
      "merchant_id                   :     103952 KB:     2.1298% : int64\n",
      "zip                           :     103952 KB:     2.1298% : float64\n",
      "mcc                           :     103952 KB:     2.1298% : int64\n",
      "4766.50 MB\n",
      "810.63 MB\n",
      "<class 'pandas.core.frame.DataFrame'>\n",
      "RangeIndex: 13305915 entries, 0 to 13305914\n",
      "Data columns (total 12 columns):\n",
      " #   Column          Dtype   \n",
      "---  ------          -----   \n",
      " 0   id              uint32  \n",
      " 1   date            category\n",
      " 2   client_id       uint16  \n",
      " 3   card_id         uint16  \n",
      " 4   amount          category\n",
      " 5   use_chip        category\n",
      " 6   merchant_id     uint32  \n",
      " 7   merchant_city   category\n",
      " 8   merchant_state  category\n",
      " 9   zip             float32 \n",
      " 10  mcc             uint16  \n",
      " 11  errors          category\n",
      "dtypes: category(6), float32(1), uint16(3), uint32(2)\n",
      "memory usage: 810.6 MB\n"
     ]
    }
   ],
   "source": [
    "get_memory_stat_by_column(data)\n",
    "print(mem_usage(data))\n",
    "print(mem_usage(optimized_dataset))\n",
    "optimized_dataset.info(memory_usage='deep')"
   ]
  },
  {
   "cell_type": "code",
   "execution_count": 104,
   "id": "b7a98b37-e6d1-4d4c-9e83-a760a98eac87",
   "metadata": {},
   "outputs": [
    {
     "name": "stdout",
     "output_type": "stream",
     "text": [
      "id:uint32\n",
      "date:category\n",
      "client_id:uint16\n",
      "card_id:uint16\n",
      "amount:category\n",
      "use_chip:category\n",
      "merchant_id:uint32\n",
      "merchant_city:category\n",
      "merchant_state:category\n",
      "zip:float32\n",
      "mcc:uint16\n",
      "errors:category\n"
     ]
    }
   ],
   "source": [
    "# 8.\tВыбрать произвольно 10 колонок для дальнейшем работы, прописав преобразование \n",
    "# типов и загрузку только нужных данных на этапе чтения файла. \n",
    "# При этом стоит использовать чанки. \n",
    "# Сохраните полученный поднабор в отдельном файле.\n",
    "\n",
    "need_column = dict()\n",
    "column_names = ['date', 'client_id', 'card_id',\n",
    "                 'amount', 'use_chip', 'merchant_id',\n",
    "                 'merchant_city', 'merchant_state', 'zip', 'mcc']\n",
    "opt_dtypes = optimized_dataset.dtypes\n",
    "for key in data.columns:\n",
    "    need_column[key] = opt_dtypes[key]\n",
    "    print(f\"{key}:{opt_dtypes[key]}\")\n",
    "\n",
    "with open(\"dtypes.json\", mode=\"w\") as file:\n",
    "    dtype_json = need_column.copy()\n",
    "    for key in dtype_json.keys():\n",
    "        dtype_json[key] = str(dtype_json[key])\n",
    "\n",
    "    json.dump(dtype_json, file)"
   ]
  },
  {
   "cell_type": "code",
   "execution_count": 106,
   "id": "35f52358-7de3-4a87-947b-cf62bd8aa2ee",
   "metadata": {},
   "outputs": [
    {
     "data": {
      "text/html": [
       "<div>\n",
       "<style scoped>\n",
       "    .dataframe tbody tr th:only-of-type {\n",
       "        vertical-align: middle;\n",
       "    }\n",
       "\n",
       "    .dataframe tbody tr th {\n",
       "        vertical-align: top;\n",
       "    }\n",
       "\n",
       "    .dataframe thead th {\n",
       "        text-align: right;\n",
       "    }\n",
       "</style>\n",
       "<table border=\"1\" class=\"dataframe\">\n",
       "  <thead>\n",
       "    <tr style=\"text-align: right;\">\n",
       "      <th></th>\n",
       "      <th>date</th>\n",
       "      <th>client_id</th>\n",
       "      <th>card_id</th>\n",
       "      <th>amount</th>\n",
       "      <th>use_chip</th>\n",
       "      <th>merchant_id</th>\n",
       "      <th>merchant_city</th>\n",
       "      <th>merchant_state</th>\n",
       "      <th>zip</th>\n",
       "      <th>mcc</th>\n",
       "    </tr>\n",
       "  </thead>\n",
       "  <tbody>\n",
       "    <tr>\n",
       "      <th>0</th>\n",
       "      <td>2010-01-01 00:01:00</td>\n",
       "      <td>1556</td>\n",
       "      <td>2972</td>\n",
       "      <td>$-77.00</td>\n",
       "      <td>Swipe Transaction</td>\n",
       "      <td>59935</td>\n",
       "      <td>Beulah</td>\n",
       "      <td>ND</td>\n",
       "      <td>58523.0</td>\n",
       "      <td>5499</td>\n",
       "    </tr>\n",
       "    <tr>\n",
       "      <th>1</th>\n",
       "      <td>2010-01-01 00:02:00</td>\n",
       "      <td>561</td>\n",
       "      <td>4575</td>\n",
       "      <td>$14.57</td>\n",
       "      <td>Swipe Transaction</td>\n",
       "      <td>67570</td>\n",
       "      <td>Bettendorf</td>\n",
       "      <td>IA</td>\n",
       "      <td>52722.0</td>\n",
       "      <td>5311</td>\n",
       "    </tr>\n",
       "    <tr>\n",
       "      <th>2</th>\n",
       "      <td>2010-01-01 00:02:00</td>\n",
       "      <td>1129</td>\n",
       "      <td>102</td>\n",
       "      <td>$80.00</td>\n",
       "      <td>Swipe Transaction</td>\n",
       "      <td>27092</td>\n",
       "      <td>Vista</td>\n",
       "      <td>CA</td>\n",
       "      <td>92084.0</td>\n",
       "      <td>4829</td>\n",
       "    </tr>\n",
       "    <tr>\n",
       "      <th>3</th>\n",
       "      <td>2010-01-01 00:05:00</td>\n",
       "      <td>430</td>\n",
       "      <td>2860</td>\n",
       "      <td>$200.00</td>\n",
       "      <td>Swipe Transaction</td>\n",
       "      <td>27092</td>\n",
       "      <td>Crown Point</td>\n",
       "      <td>IN</td>\n",
       "      <td>46307.0</td>\n",
       "      <td>4829</td>\n",
       "    </tr>\n",
       "    <tr>\n",
       "      <th>4</th>\n",
       "      <td>2010-01-01 00:06:00</td>\n",
       "      <td>848</td>\n",
       "      <td>3915</td>\n",
       "      <td>$46.41</td>\n",
       "      <td>Swipe Transaction</td>\n",
       "      <td>13051</td>\n",
       "      <td>Harwood</td>\n",
       "      <td>MD</td>\n",
       "      <td>20776.0</td>\n",
       "      <td>5813</td>\n",
       "    </tr>\n",
       "  </tbody>\n",
       "</table>\n",
       "</div>"
      ],
      "text/plain": [
       "                  date  client_id  card_id   amount           use_chip  \\\n",
       "0  2010-01-01 00:01:00       1556     2972  $-77.00  Swipe Transaction   \n",
       "1  2010-01-01 00:02:00        561     4575   $14.57  Swipe Transaction   \n",
       "2  2010-01-01 00:02:00       1129      102   $80.00  Swipe Transaction   \n",
       "3  2010-01-01 00:05:00        430     2860  $200.00  Swipe Transaction   \n",
       "4  2010-01-01 00:06:00        848     3915   $46.41  Swipe Transaction   \n",
       "\n",
       "   merchant_id merchant_city merchant_state      zip   mcc  \n",
       "0        59935        Beulah             ND  58523.0  5499  \n",
       "1        67570    Bettendorf             IA  52722.0  5311  \n",
       "2        27092         Vista             CA  92084.0  4829  \n",
       "3        27092   Crown Point             IN  46307.0  4829  \n",
       "4        13051       Harwood             MD  20776.0  5813  "
      ]
     },
     "execution_count": 106,
     "metadata": {},
     "output_type": "execute_result"
    }
   ],
   "source": [
    "# Используя оптимизированный набор данных, построить пять-семь графиков \n",
    "# (включая разные типы: линейный, столбчатый, круговая диаграмма, корреляция и т.д.)\n",
    "read_and_optimized = pd.read_csv('archive.zip', compression=\"zip\", usecols=lambda x: x in column_names, dtype=need_column)\n",
    "read_and_optimized.head()"
   ]
  }
 ],
 "metadata": {
  "kernelspec": {
   "display_name": "Python 3 (ipykernel)",
   "language": "python",
   "name": "python3"
  },
  "language_info": {
   "codemirror_mode": {
    "name": "ipython",
    "version": 3
   },
   "file_extension": ".py",
   "mimetype": "text/x-python",
   "name": "python",
   "nbconvert_exporter": "python",
   "pygments_lexer": "ipython3",
   "version": "3.12.2"
  }
 },
 "nbformat": 4,
 "nbformat_minor": 5
}
