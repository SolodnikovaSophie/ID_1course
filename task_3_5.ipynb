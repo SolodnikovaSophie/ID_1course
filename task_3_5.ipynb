{
 "cells": [
  {
   "cell_type": "code",
   "execution_count": 87,
   "id": "5946d674-06c6-4bc3-83f2-5045c13fb324",
   "metadata": {},
   "outputs": [],
   "source": [
    "import pandas as pd \n",
    "import numpy as np\n",
    "import json"
   ]
  },
  {
   "cell_type": "code",
   "execution_count": 28,
   "id": "f46d2a9e-d790-43a9-96fd-cea777aa4122",
   "metadata": {},
   "outputs": [],
   "source": [
    "data = pd.read_json(r\"C:\\Users\\ipavl\\Учеба_УРФУ\\1_курс\\1_семестр\\ИД\\Practice_3\\Homework_3_ID\\tennis_racket_details_data.json\")"
   ]
  },
  {
   "cell_type": "code",
   "execution_count": 29,
   "id": "f82b167f-6c9d-4fee-b2d6-bff29d7f82f8",
   "metadata": {},
   "outputs": [],
   "source": [
    "df = pd.DataFrame(data)"
   ]
  },
  {
   "cell_type": "code",
   "execution_count": 30,
   "id": "379066ca-5e19-44cf-a688-3771bcbf2546",
   "metadata": {},
   "outputs": [
    {
     "data": {
      "text/html": [
       "<div>\n",
       "<style scoped>\n",
       "    .dataframe tbody tr th:only-of-type {\n",
       "        vertical-align: middle;\n",
       "    }\n",
       "\n",
       "    .dataframe tbody tr th {\n",
       "        vertical-align: top;\n",
       "    }\n",
       "\n",
       "    .dataframe thead th {\n",
       "        text-align: right;\n",
       "    }\n",
       "</style>\n",
       "<table border=\"1\" class=\"dataframe\">\n",
       "  <thead>\n",
       "    <tr style=\"text-align: right;\">\n",
       "      <th></th>\n",
       "      <th>Название</th>\n",
       "      <th>Артикул</th>\n",
       "      <th>Цена</th>\n",
       "      <th>Размер головы (кв.см.)</th>\n",
       "      <th>Вес без натяжки (гр.)</th>\n",
       "      <th>Длина:</th>\n",
       "      <th>Материал:</th>\n",
       "    </tr>\n",
       "  </thead>\n",
       "  <tbody>\n",
       "    <tr>\n",
       "      <th>0</th>\n",
       "      <td>[Теннисная ракетка Head Extreme Pro 2024]</td>\n",
       "      <td>[231104]</td>\n",
       "      <td>32990</td>\n",
       "      <td>630</td>\n",
       "      <td>305</td>\n",
       "      <td>685.0</td>\n",
       "      <td>Графит</td>\n",
       "    </tr>\n",
       "    <tr>\n",
       "      <th>1</th>\n",
       "      <td>[Теннисная ракетка Tecnifibre TF-X1 285 v.2]</td>\n",
       "      <td>[14TFX2854]</td>\n",
       "      <td>30490</td>\n",
       "      <td>645</td>\n",
       "      <td>285</td>\n",
       "      <td>685.0</td>\n",
       "      <td>Графит</td>\n",
       "    </tr>\n",
       "    <tr>\n",
       "      <th>2</th>\n",
       "      <td>[Теннисная ракетка Tecnifibre TF-X1 305 v.2]</td>\n",
       "      <td>[14TFX3054]</td>\n",
       "      <td>31990</td>\n",
       "      <td>630</td>\n",
       "      <td>305</td>\n",
       "      <td>685.0</td>\n",
       "      <td>Графит</td>\n",
       "    </tr>\n",
       "    <tr>\n",
       "      <th>3</th>\n",
       "      <td>[Теннисная ракетка Tecnifibre TF-X1 300 v.2]</td>\n",
       "      <td>[14TFX3004]</td>\n",
       "      <td>31490</td>\n",
       "      <td>645</td>\n",
       "      <td>300</td>\n",
       "      <td>685.0</td>\n",
       "      <td>Графит</td>\n",
       "    </tr>\n",
       "    <tr>\n",
       "      <th>4</th>\n",
       "      <td>[Теннисная ракетка Wilson Blade 104 V9.0]</td>\n",
       "      <td>[WR150011]</td>\n",
       "      <td>36990</td>\n",
       "      <td>671</td>\n",
       "      <td>290</td>\n",
       "      <td>685.0</td>\n",
       "      <td>Графит</td>\n",
       "    </tr>\n",
       "  </tbody>\n",
       "</table>\n",
       "</div>"
      ],
      "text/plain": [
       "                                       Название      Артикул   Цена  \\\n",
       "0     [Теннисная ракетка Head Extreme Pro 2024]     [231104]  32990   \n",
       "1  [Теннисная ракетка Tecnifibre TF-X1 285 v.2]  [14TFX2854]  30490   \n",
       "2  [Теннисная ракетка Tecnifibre TF-X1 305 v.2]  [14TFX3054]  31990   \n",
       "3  [Теннисная ракетка Tecnifibre TF-X1 300 v.2]  [14TFX3004]  31490   \n",
       "4     [Теннисная ракетка Wilson Blade 104 V9.0]   [WR150011]  36990   \n",
       "\n",
       "  Размер головы (кв.см.)  Вес без натяжки (гр.) Длина: Материал:  \n",
       "0                    630                    305  685.0    Графит  \n",
       "1                    645                    285  685.0    Графит  \n",
       "2                    630                    305  685.0    Графит  \n",
       "3                    645                    300  685.0    Графит  \n",
       "4                    671                    290  685.0    Графит  "
      ]
     },
     "execution_count": 30,
     "metadata": {},
     "output_type": "execute_result"
    }
   ],
   "source": [
    "df.head(5)"
   ]
  },
  {
   "cell_type": "code",
   "execution_count": 31,
   "id": "dbfc6dc0-db5e-4760-a404-e7cabfd2a34d",
   "metadata": {},
   "outputs": [
    {
     "name": "stdout",
     "output_type": "stream",
     "text": [
      "<class 'pandas.core.frame.DataFrame'>\n",
      "RangeIndex: 239 entries, 0 to 238\n",
      "Data columns (total 7 columns):\n",
      " #   Column                  Non-Null Count  Dtype \n",
      "---  ------                  --------------  ----- \n",
      " 0   Название                239 non-null    object\n",
      " 1   Артикул                 239 non-null    object\n",
      " 2   Цена                    239 non-null    int64 \n",
      " 3   Размер головы (кв.см.)  239 non-null    object\n",
      " 4   Вес без натяжки (гр.)   239 non-null    int64 \n",
      " 5   Длина:                  239 non-null    object\n",
      " 6   Материал:               239 non-null    object\n",
      "dtypes: int64(2), object(5)\n",
      "memory usage: 13.2+ KB\n"
     ]
    }
   ],
   "source": [
    "df.info()"
   ]
  },
  {
   "cell_type": "code",
   "execution_count": 46,
   "id": "da215741-c668-4932-9dfc-b2ebc5edc12b",
   "metadata": {},
   "outputs": [],
   "source": [
    "# Удаляем строки с нечисловыми значениями в столбце 'Размер головы (кв.см.)'\n",
    "df = df[pd.to_numeric(df['Размер головы (кв.см.)'], errors='coerce').notnull()]\n",
    "\n",
    "#Теперь преобразуем к int, пропущенные значения заменятся NaN\n",
    "df['Размер головы (кв.см.)'] = df['Размер головы (кв.см.)'].astype(int)\n",
    "\n",
    "df = df[pd.to_numeric(df['Длина:'], errors='coerce').notnull()]\n",
    "df['Длина:'] = df['Длина:'].astype(float)\n",
    "df['Артикул'] = df['Артикул'].astype(str)"
   ]
  },
  {
   "cell_type": "code",
   "execution_count": 47,
   "id": "ae38b82e-d075-49dc-9460-ffd3437a3e12",
   "metadata": {},
   "outputs": [
    {
     "name": "stdout",
     "output_type": "stream",
     "text": [
      "<class 'pandas.core.frame.DataFrame'>\n",
      "Index: 228 entries, 0 to 238\n",
      "Data columns (total 7 columns):\n",
      " #   Column                  Non-Null Count  Dtype  \n",
      "---  ------                  --------------  -----  \n",
      " 0   Название                228 non-null    object \n",
      " 1   Артикул                 228 non-null    object \n",
      " 2   Цена                    228 non-null    int64  \n",
      " 3   Размер головы (кв.см.)  228 non-null    int64  \n",
      " 4   Вес без натяжки (гр.)   228 non-null    int64  \n",
      " 5   Длина:                  228 non-null    float64\n",
      " 6   Материал:               228 non-null    object \n",
      "dtypes: float64(1), int64(3), object(3)\n",
      "memory usage: 14.2+ KB\n"
     ]
    }
   ],
   "source": [
    "df.info()"
   ]
  },
  {
   "cell_type": "code",
   "execution_count": 52,
   "id": "dd5f9dab-6f70-4d31-8503-f11da5987cd0",
   "metadata": {},
   "outputs": [
    {
     "data": {
      "text/html": [
       "<div>\n",
       "<style scoped>\n",
       "    .dataframe tbody tr th:only-of-type {\n",
       "        vertical-align: middle;\n",
       "    }\n",
       "\n",
       "    .dataframe tbody tr th {\n",
       "        vertical-align: top;\n",
       "    }\n",
       "\n",
       "    .dataframe thead th {\n",
       "        text-align: right;\n",
       "    }\n",
       "</style>\n",
       "<table border=\"1\" class=\"dataframe\">\n",
       "  <thead>\n",
       "    <tr style=\"text-align: right;\">\n",
       "      <th></th>\n",
       "      <th>Цена</th>\n",
       "      <th>Размер головы (кв.см.)</th>\n",
       "      <th>Вес без натяжки (гр.)</th>\n",
       "      <th>Длина:</th>\n",
       "    </tr>\n",
       "  </thead>\n",
       "  <tbody>\n",
       "    <tr>\n",
       "      <th>count</th>\n",
       "      <td>228.000000</td>\n",
       "      <td>228.000000</td>\n",
       "      <td>228.000000</td>\n",
       "      <td>228.000000</td>\n",
       "    </tr>\n",
       "    <tr>\n",
       "      <th>mean</th>\n",
       "      <td>18382.706140</td>\n",
       "      <td>607.657895</td>\n",
       "      <td>254.267544</td>\n",
       "      <td>539.654825</td>\n",
       "    </tr>\n",
       "    <tr>\n",
       "      <th>std</th>\n",
       "      <td>12642.234094</td>\n",
       "      <td>61.964866</td>\n",
       "      <td>58.067661</td>\n",
       "      <td>225.326642</td>\n",
       "    </tr>\n",
       "    <tr>\n",
       "      <th>min</th>\n",
       "      <td>1990.000000</td>\n",
       "      <td>400.000000</td>\n",
       "      <td>125.000000</td>\n",
       "      <td>27.000000</td>\n",
       "    </tr>\n",
       "    <tr>\n",
       "      <th>25%</th>\n",
       "      <td>4990.000000</td>\n",
       "      <td>580.000000</td>\n",
       "      <td>200.000000</td>\n",
       "      <td>485.000000</td>\n",
       "    </tr>\n",
       "    <tr>\n",
       "      <th>50%</th>\n",
       "      <td>17990.000000</td>\n",
       "      <td>632.000000</td>\n",
       "      <td>260.000000</td>\n",
       "      <td>660.000000</td>\n",
       "    </tr>\n",
       "    <tr>\n",
       "      <th>75%</th>\n",
       "      <td>28990.000000</td>\n",
       "      <td>645.000000</td>\n",
       "      <td>300.000000</td>\n",
       "      <td>685.000000</td>\n",
       "    </tr>\n",
       "    <tr>\n",
       "      <th>max</th>\n",
       "      <td>49490.000000</td>\n",
       "      <td>690.000000</td>\n",
       "      <td>370.000000</td>\n",
       "      <td>698.000000</td>\n",
       "    </tr>\n",
       "  </tbody>\n",
       "</table>\n",
       "</div>"
      ],
      "text/plain": [
       "               Цена  Размер головы (кв.см.)  Вес без натяжки (гр.)      Длина:\n",
       "count    228.000000              228.000000             228.000000  228.000000\n",
       "mean   18382.706140              607.657895             254.267544  539.654825\n",
       "std    12642.234094               61.964866              58.067661  225.326642\n",
       "min     1990.000000              400.000000             125.000000   27.000000\n",
       "25%     4990.000000              580.000000             200.000000  485.000000\n",
       "50%    17990.000000              632.000000             260.000000  660.000000\n",
       "75%    28990.000000              645.000000             300.000000  685.000000\n",
       "max    49490.000000              690.000000             370.000000  698.000000"
      ]
     },
     "execution_count": 52,
     "metadata": {},
     "output_type": "execute_result"
    }
   ],
   "source": [
    "# Статистические показатели для всех числовых признаков \n",
    "df.describe()"
   ]
  },
  {
   "cell_type": "code",
   "execution_count": 88,
   "id": "18fb3a41-69be-45cd-b089-4da0d7b205d3",
   "metadata": {},
   "outputs": [
    {
     "name": "stdout",
     "output_type": "stream",
     "text": [
      "{'Максимальное значение': 49490, 'Минимальное значение': 1990, 'Сумма значений': 29338799, 'Среднее арифметическое значение': 18382}\n"
     ]
    }
   ],
   "source": [
    "# Для одного поля\n",
    "price_stat = np.array([df['Цена'] for item in df])\n",
    "\n",
    "price_stats = {\n",
    "    \"Максимальное значение\": int(np.max(price_stat)),\n",
    "    \"Минимальное значение\": int(np.min(price_stat)),\n",
    "    \"Сумма значений\": int(np.sum(price_stat)),\n",
    "    \"Среднее арифметическое значение\": int(np.mean(price_stat))\n",
    "}\n",
    "\n",
    "with open('price_stats_5.json', 'w', encoding=\"utf-8\") as f:\n",
    "    json.dump(price_stats, f, ensure_ascii=False)\n",
    "\n",
    "print(price_stats)"
   ]
  },
  {
   "cell_type": "markdown",
   "id": "45c38bb7-e645-47e6-afdf-eab74da5710e",
   "metadata": {},
   "source": [
    "Отсортируем значения по одному из доступных полей"
   ]
  },
  {
   "cell_type": "code",
   "execution_count": 63,
   "id": "e1089f9c-82e7-495d-ab51-f5b7edd34b2d",
   "metadata": {},
   "outputs": [
    {
     "name": "stdout",
     "output_type": "stream",
     "text": [
      "    index                                           Название  \\\n",
      "0       9  [Теннисная ракетка Tecnifbre Tfight 315 Isofle...   \n",
      "1      10  [Теннисная ракетка Tecnifbre Tfight 300 Isofle...   \n",
      "2      15          [Теннисная ракетка Diadem Elevate 98 v.3]   \n",
      "3      21             [Теннисная ракетка Diadem Nova FS 100]   \n",
      "4      62  [Ракетка для падела Head Gravity Team Light 2024]   \n",
      "5      63        [Ракетка для падела Head Gravity Team 2024]   \n",
      "6      69         [Ракетка для падела Head Evo Extreme 2023]   \n",
      "7      71            [Теннисная ракетка Head Geo Speed 2024]   \n",
      "8     122   [Теннисная ракетка Head Challenge MP 2024 - Red]   \n",
      "9     123  [Теннисная ракетка Head Challenge MP 2024 - Blue]   \n",
      "10    136                     [Теннисная ракетка 7/6 A1 300]   \n",
      "11    140          [Wilson Blade 98 16x19 V8.0 US Open 2023]   \n",
      "12    142        [Теннисная ракетка Head Prestige Tour 2023]   \n",
      "13    145        [Теннисная ракетка Diadem Nova FS 100 Plus]   \n",
      "14    177      [Теннисная ракетка Diadem Elevate FS 98 Tour]   \n",
      "15    190  [Теннисная ракетка Tecnifibre TF-40 305 16X19 ...   \n",
      "16    191   [Теннисная ракетка Tecnifibre T-Rebound 298 Iga]   \n",
      "17    202           [Теннисная ракетка Tecnifibre TF-X1 300]   \n",
      "18    203  [Теннисная ракетка Tecnifibre TF-40 315 18X20 ...   \n",
      "19    204  [Теннисная ракетка Tecnifibre TF-40 315 16X19 ...   \n",
      "20    205  [Теннисная ракетка Tecnifibre TF-40 305 18X20 ...   \n",
      "21    215          [Теннисная ракетка Head Instinct MP 2022]   \n",
      "22    216             [Теннисная ракетка Head Boom 2022 Pro]   \n",
      "23    220        [Теннисная ракетка Head Prestige Tour 2021]   \n",
      "24    221        [Теннисная ракетка Head Prestige MP L 2021]   \n",
      "25    222          [Теннисная ракетка Head Prestige MP 2021]   \n",
      "26    224                 [Теннисная ракетка Head Geo Speed]   \n",
      "27    232  [Теннисная ракетка Babolat Pure Strike 18/20 2...   \n",
      "28    233  [Теннисная ракетка Babolat Pure Strike 16/19 2...   \n",
      "\n",
      "               Артикул   Цена  Размер головы (кв.см.)  Вес без натяжки (гр.)  \\\n",
      "0          ['14FI315']  23993                     630                    315   \n",
      "1          ['14FI300']  22868                     630                    300   \n",
      "2        ['RK-V3-ELV']  24990                     632                    305   \n",
      "3        ['RK-FS-NVA']  24490                     645                    300   \n",
      "4           ['224064']  19990                     490                    345   \n",
      "5           ['224024']  23990                     498                    360   \n",
      "6           ['226413']  13990                     511                    360   \n",
      "7           ['231375']   7490                     680                    295   \n",
      "8           ['235414']  13490                     645                    295   \n",
      "9           ['235404']  13490                     645                    295   \n",
      "10      ['AR76-A1300']  17990                     645                    300   \n",
      "11        ['WR133511']  24990                     632                    305   \n",
      "12          ['236113']  24990                     615                    315   \n",
      "13  ['RK-FS-NVA-PLUS']  24490                     645                    305   \n",
      "14  ['RK-FS-ELV-TOUR']  13990                     632                    315   \n",
      "15      ['14TF430562']  18990                     630                    305   \n",
      "16      ['14REB29822']  21990                     645                    298   \n",
      "17      ['14TFX30022']  19990                     645                    300   \n",
      "18      ['14TF431584']  18990                     630                    315   \n",
      "19      ['14TF431563']  18990                     630                    315   \n",
      "20      ['14TF430582']  18990                     630                    305   \n",
      "21          ['234302']  21990                     645                    300   \n",
      "22          ['233502']  17990                     630                    310   \n",
      "23          ['236111']  14990                     615                    315   \n",
      "24          ['236131']  14990                     640                    300   \n",
      "25          ['236121']  14990                     640                    310   \n",
      "26          ['235601']   6990                     680                    295   \n",
      "27          ['101404']  18490                     630                    305   \n",
      "28          ['101406']  17990                     630                    305   \n",
      "\n",
      "    Длина:      Материал:  \n",
      "0    685.0         Графит  \n",
      "1    685.0         Графит  \n",
      "2    685.0         Графит  \n",
      "3    685.0         Графит  \n",
      "4     46.0  Стекловолокно  \n",
      "5     46.0  Стекловолокно  \n",
      "6     46.0   2D Carbon HS  \n",
      "7    698.0       Композит  \n",
      "8    685.0         Графит  \n",
      "9    685.0         Графит  \n",
      "10   685.0         Графит  \n",
      "11   685.0         Графит  \n",
      "12   685.0         Графит  \n",
      "13   698.0         Графит  \n",
      "14   685.0         Графит  \n",
      "15   685.0         Графит  \n",
      "16   685.0         Графит  \n",
      "17   685.0         Графит  \n",
      "18   685.0         Графит  \n",
      "19   685.0         Графит  \n",
      "20   685.0         Графит  \n",
      "21   685.0         Графит  \n",
      "22    68.6         Графит  \n",
      "23   685.0      Graphene+  \n",
      "24   685.0         Графит  \n",
      "25   685.0      Graphene+  \n",
      "26    69.8       Композит  \n",
      "27    68.5       Graphite  \n",
      "28    68.5       Graphite  \n"
     ]
    }
   ],
   "source": [
    "filter_1 = df.loc[(df[\"Вес без натяжки (гр.)\"] > 290) & (df[\"Цена\"] < 25000)]\n",
    "filter_1 = filter_1.reset_index()\n",
    "print(filter_1)\n"
   ]
  },
  {
   "cell_type": "markdown",
   "id": "73ff9c9a-c231-43d7-b484-d1aaae1c4ec9",
   "metadata": {},
   "source": [
    "Выполним фильтрацию по другому полю"
   ]
  },
  {
   "cell_type": "code",
   "execution_count": 70,
   "id": "7ec9e304-94ca-4f7d-9183-2642afc08610",
   "metadata": {},
   "outputs": [
    {
     "name": "stdout",
     "output_type": "stream",
     "text": [
      "    index                                           Название  \\\n",
      "0      56           [Теннисная ракетка Head Extreme Jr 2022]   \n",
      "1     107  [Ракетка для сквоша Tecnifiber Carboflex Junio...   \n",
      "2     122   [Теннисная ракетка Head Challenge MP 2024 - Red]   \n",
      "3     123  [Теннисная ракетка Head Challenge MP 2024 - Blue]   \n",
      "4     146          [Теннисная ракетка Head IG Gravity Jr 25]   \n",
      "5     148     [Теннисная ракетка Head IG Gravity Jr 23 2023]   \n",
      "6     158  [Ракетка для сквоша Tecnifiber Corbonflex Xspe...   \n",
      "7     162        [Теннисная ракетка Head Gravity Jr 2023 26]   \n",
      "8     163        [Теннисная ракетка Head Gravity Jr 2023 25]   \n",
      "9     174            [Теннисная ракетка Diadem Rise 26 Teal]   \n",
      "10    175            [Теннисная ракетка Diadem Rise 25 Grey]   \n",
      "11    177      [Теннисная ракетка Diadem Elevate FS 98 Tour]   \n",
      "12    221        [Теннисная ракетка Head Prestige MP L 2021]   \n",
      "\n",
      "               Артикул   Цена  Размер головы (кв.см.)  Вес без натяжки (гр.)  \\\n",
      "0           ['235352']  13490                     645                    240   \n",
      "1       ['12CARJUNXT']   8990                     500                    155   \n",
      "2           ['235414']  13490                     645                    295   \n",
      "3           ['235404']  13490                     645                    295   \n",
      "4           ['235013']   7490                     645                    240   \n",
      "5           ['235023']   6990                     615                    215   \n",
      "6       ['12CAR130BL']  14990                     500                    130   \n",
      "7           ['235363']  13990                     645                    255   \n",
      "8           ['235373']  13990                     645                    230   \n",
      "9      ['RK-RSE26-TL']  14990                     645                    250   \n",
      "10     ['RK-RSE25-GR']   9990                     645                    240   \n",
      "11  ['RK-FS-ELV-TOUR']  13990                     632                    315   \n",
      "12          ['236131']  14990                     640                    300   \n",
      "\n",
      "    Длина: Материал:  \n",
      "0    660.0    Графит  \n",
      "1    635.0    Графит  \n",
      "2    685.0    Графит  \n",
      "3    685.0    Графит  \n",
      "4    635.0    Графит  \n",
      "5    585.0    Графит  \n",
      "6    685.0    Графит  \n",
      "7    660.0    Графит  \n",
      "8    635.0    Графит  \n",
      "9    685.0    Графит  \n",
      "10   635.0    Графит  \n",
      "11   685.0    Графит  \n",
      "12   685.0    Графит  \n"
     ]
    }
   ],
   "source": [
    "filter_2 = df.loc[(df['Материал:'] == 'Графит') & (df['Цена'] < 15000)]\n",
    "filter_2 = filter_2.reset_index()\n",
    "print(filter_2)"
   ]
  },
  {
   "cell_type": "markdown",
   "id": "1f9d9c77-4abf-48ec-9611-aea7b2eed6b8",
   "metadata": {},
   "source": [
    "Для одного текстового поля посчитаем частоту меток"
   ]
  },
  {
   "cell_type": "code",
   "execution_count": 71,
   "id": "c70c7d05-47e2-47ff-bbcd-acc63e7e12bc",
   "metadata": {},
   "outputs": [
    {
     "name": "stdout",
     "output_type": "stream",
     "text": [
      "Материал:\n",
      "Графит                           121\n",
      "Алюминий                          73\n",
      "Композит                           7\n",
      "Graphite                           6\n",
      "2D Carbon HS                       3\n",
      "Карбон+Стекловолокно               2\n",
      "Стекловолокно                      2\n",
      "Graphene+                          2\n",
      "X-Tend Carbon 12K                  1\n",
      "Fibrix (карбон+стекловолокно)      1\n",
      "Карбон                             1\n",
      "Carbon+Fiberglass                  1\n",
      "Материал не найден                 1\n",
      "Xtend-Carbon 12K                   1\n",
      "Графитовый композит                1\n",
      "TriCarbon                          1\n",
      "Аллюминий                          1\n",
      "графит                             1\n",
      "Graphite Composite                 1\n",
      "композит                           1\n",
      "Name: count, dtype: int64\n"
     ]
    }
   ],
   "source": [
    "freq = df['Материал:'].value_counts()\n",
    "print(freq)"
   ]
  },
  {
   "cell_type": "code",
   "execution_count": 75,
   "id": "6f58a6b2-db5c-4528-a4f6-23e69b379fb6",
   "metadata": {},
   "outputs": [],
   "source": [
    "freq_json = freq.to_json('freq_materials.json', force_ascii=False)"
   ]
  },
  {
   "cell_type": "code",
   "execution_count": 78,
   "id": "ab8fa73e-f92e-4786-a588-6ee662ebb3aa",
   "metadata": {},
   "outputs": [],
   "source": [
    "filter_material_price_json = filter_2.to_json('filter_material_price.json', force_ascii=False, orient=\"records\", indent=4)"
   ]
  },
  {
   "cell_type": "code",
   "execution_count": 79,
   "id": "c81ec6ec-d9af-4d57-b390-5eb384edf35b",
   "metadata": {},
   "outputs": [],
   "source": [
    "filter_weight_price_json = filter_2.to_json('filter_weight_price_json', force_ascii=False, orient=\"records\", indent=4)"
   ]
  }
 ],
 "metadata": {
  "kernelspec": {
   "display_name": "Python 3 (ipykernel)",
   "language": "python",
   "name": "python3"
  },
  "language_info": {
   "codemirror_mode": {
    "name": "ipython",
    "version": 3
   },
   "file_extension": ".py",
   "mimetype": "text/x-python",
   "name": "python",
   "nbconvert_exporter": "python",
   "pygments_lexer": "ipython3",
   "version": "3.12.2"
  }
 },
 "nbformat": 4,
 "nbformat_minor": 5
}
