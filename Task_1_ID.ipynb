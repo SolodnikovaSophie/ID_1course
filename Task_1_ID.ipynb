{
 "cells": [
  {
   "cell_type": "markdown",
   "id": "d2abe92c-bf9c-44f0-8fad-4cad667e1e01",
   "metadata": {},
   "source": [
    "# Задание 1"
   ]
  },
  {
   "cell_type": "markdown",
   "id": "4883f606-619b-48a3-9526-985d2d718661",
   "metadata": {},
   "source": [
    "Исследовать структуру html-файлов, чтобы произвести парсинг всех данных. В каждом файле содержится информация об одном объекте из случайной предметной области. Полученные данные собрать и записать в json. Выполните также ряд операций с данными:\n",
    "\n",
    "*\tотсортируйте значения по одному из доступных полей\n",
    "*\tвыполните фильтрацию по другому полю (запишите результат отдельно)\n",
    "*\tдля одного выбранного числового поля посчитайте статистические характеристики (сумма, мин/макс, среднее и т.д.)\n",
    "*\tдля одного текстового поля посчитайте частоту меток\n"
   ]
  },
  {
   "cell_type": "code",
   "execution_count": 54,
   "id": "bee8633c-7599-47f2-960a-5bd1d16e7017",
   "metadata": {},
   "outputs": [],
   "source": [
    "from bs4 import BeautifulSoup\n",
    "import pandas as pd\n",
    "import json"
   ]
  },
  {
   "cell_type": "code",
   "execution_count": 55,
   "id": "d3943402-1f3e-440e-ae64-11219de41300",
   "metadata": {},
   "outputs": [],
   "source": [
    "def handle_file(path):\n",
    "\n",
    "    with open(path, \"r\", encoding = \"utf-8\") as file:\n",
    "        html_content = file.read()\n",
    "\n",
    "    soup = BeautifulSoup(html_content, \"html.parser\")\n",
    "    # print(soup)\n",
    "\n",
    "    product = soup.find_all(\"div\", attrs={'class': \"product-wrapper\"})[0]\n",
    "    # print(products)\n",
    "\n",
    "\n",
    "    item = {}\n",
    "    article_number = product.span.get_text().split(\"Артикул: \")[1].split(\"Наличие:\")\n",
    "    item['article_number'] = article_number[0].strip()\n",
    "    item['availability'] = article_number[1].strip()\n",
    "    item['name'] = product.find_all(\"h1\", attrs={'class': 'title'})[0].get_text().split(\":\")[1].strip()\n",
    "    item['city'] = soup.find('p', class_='address-price').text.split(':')[1].split()[0].strip().replace(\"Цена\", \"\")\n",
    "    item['price'] = int(soup.find('p', class_='address-price').text.split(':')[2].split()[0].strip())  # цена\n",
    "    # city_price = product.p.get_text().split(\"Город: \")[1].split('Цена: ')\n",
    "    # print(city_price)\n",
    "    # item['city'] = city_price[0]\n",
    "    # item['price'] = int(city_price[1].split(\" \")[0].strip())\n",
    "    item['color'] = product.find_all('span', attrs={'class': \"color\"})[0].get_text().split(\":\")[1].strip()\n",
    "    item[\"quantity\"] = int(product.find_all('span', attrs={'class': \"quantity\"})[0].get_text().split(\":\")[1].strip().split(\" \")[0].strip())\n",
    "    item['dimensions'] = soup.find_all('span')[3].text.split(':')[1].strip()  # размеры\n",
    "    item['image_url'] = soup.find('img')['src']  # ссылка на картинку\n",
    "    item['rating'] = float(soup.find_all('span')[4].text.split(':')[1].strip())\n",
    "    item['views'] = int(soup.find_all('span')[5].text.split(':')[1].strip())\n",
    "\n",
    "    return item"
   ]
  },
  {
   "cell_type": "code",
   "execution_count": 56,
   "id": "7173c00e-1746-49b1-82e5-a6d1093248b9",
   "metadata": {},
   "outputs": [
    {
     "name": "stdout",
     "output_type": "stream",
     "text": [
      "[{'article_number': '561902-H-29808', 'availability': 'Нет', 'name': 'Moisturizer', 'city': 'Тбилиси', 'price': 1231, 'color': 'Желтый', 'quantity': 681, 'dimensions': '5x66x76', 'image_url': 'https://upload.products.ru/872873.webp', 'rating': 0.7, 'views': 87579}, {'article_number': '972220-X-10872', 'availability': 'Нет', 'name': 'Blueberry', 'city': 'Бильбао', 'price': 2446, 'color': 'Желтый', 'quantity': 178, 'dimensions': '49x76x76', 'image_url': 'https://upload.products.ru/633656.webp', 'rating': 1.3, 'views': 84561}, {'article_number': '563490-Y-46312', 'availability': 'Да', 'name': 'Blackberry', 'city': 'Луарка', 'price': 3375, 'color': 'Оранжевый', 'quantity': 152, 'dimensions': '9x37x84', 'image_url': 'https://upload.product.org/723763.jpg', 'rating': 2.9, 'views': 44222}, {'article_number': '128064-U-50096', 'availability': 'Да', 'name': 'Facial cleanser', 'city': 'Кадакес', 'price': 3850, 'color': 'Голубой', 'quantity': 387, 'dimensions': '31x94x84', 'image_url': 'https://upload.products.ru/393467.png', 'rating': 4.1, 'views': 85437}, {'article_number': '335834-Y-33471', 'availability': 'Нет', 'name': 'Raspberry', 'city': 'Баку', 'price': 3219, 'color': 'Красный', 'quantity': 72, 'dimensions': '77x49x40', 'image_url': 'https://upload.product.com/480984.svg', 'rating': 0.1, 'views': 39964}, {'article_number': '63291-C-41477', 'availability': 'Нет', 'name': 'Drywall', 'city': 'Картахена', 'price': 3742, 'color': 'Синий', 'quantity': 627, 'dimensions': '12x32x79', 'image_url': 'https://upload.products.ru/814750.svg', 'rating': 3.0, 'views': 74386}, {'article_number': '50643-P-73221', 'availability': 'Нет', 'name': 'Kiwifruit', 'city': 'Душанбе', 'price': 3313, 'color': 'Фиолетовый', 'quantity': 874, 'dimensions': '3x31x8', 'image_url': 'https://upload.all-prod.it/779740.webp', 'rating': 2.1, 'views': 67359}, {'article_number': '701193-A-23164', 'availability': 'Нет', 'name': 'Exfoliator', 'city': 'Артейхо', 'price': 4957, 'color': 'Синий', 'quantity': 133, 'dimensions': '78x45x7', 'image_url': 'https://upload.products.ru/417198.png', 'rating': 3.1, 'views': 39584}, {'article_number': '828702-B-99578', 'availability': 'Да', 'name': 'Scaffolding', 'city': 'Вильявисиоса', 'price': 2631, 'color': 'Синий', 'quantity': 756, 'dimensions': '54x13x52', 'image_url': 'https://upload.prod.xyz/671927.png', 'rating': 0.4, 'views': 59137}, {'article_number': '833733-K-87051', 'availability': 'Нет', 'name': 'Scaffolding', 'city': 'Сантьяго-де-Компостела', 'price': 3015, 'color': 'Зеленый', 'quantity': 466, 'dimensions': '22x91x40', 'image_url': 'https://upload.products.ru/387956.webp', 'rating': 0.3, 'views': 58756}, {'article_number': '820404-G-62421', 'availability': 'Нет', 'name': 'Apple', 'city': 'Мартоса', 'price': 3640, 'color': 'Желтый', 'quantity': 451, 'dimensions': '20x35x66', 'image_url': 'https://upload.products.ru/433586.png', 'rating': 3.7, 'views': 46882}, {'article_number': '58284-Y-52694', 'availability': 'Нет', 'name': 'Hammer', 'city': 'Аликанте', 'price': 4861, 'color': 'Желтый', 'quantity': 5, 'dimensions': '75x32x84', 'image_url': 'https://upload.prod.xyz/230464.svg', 'rating': 4.1, 'views': 76015}, {'article_number': '59706-Z-81981', 'availability': 'Да', 'name': 'Body wash', 'city': 'Вальядолид', 'price': 4230, 'color': 'Голубой', 'quantity': 288, 'dimensions': '47x45x83', 'image_url': 'https://upload.product.org/355137.svg', 'rating': 1.5, 'views': 91027}, {'article_number': '506712-O-88595', 'availability': 'Нет', 'name': 'Trim', 'city': 'Эль-Пуэрто-де-Санта-Мария', 'price': 1236, 'color': 'Голубой', 'quantity': 193, 'dimensions': '56x5x53', 'image_url': 'https://upload.product.org/290549.jpeg', 'rating': 4.6, 'views': 59793}, {'article_number': '356415-O-14725', 'availability': 'Да', 'name': 'Makeup remover', 'city': 'Малага', 'price': 4482, 'color': 'Оранжевый', 'quantity': 504, 'dimensions': '91x47x64', 'image_url': 'https://upload.prod.xyz/700063.jpg', 'rating': 3.7, 'views': 11826}, {'article_number': '820901-G-94587', 'availability': 'Да', 'name': 'Hair mask', 'city': 'Киев', 'price': 2647, 'color': 'Фиолетовый', 'quantity': 286, 'dimensions': '43x82x90', 'image_url': 'https://upload.product.org/695309.png', 'rating': 0.8, 'views': 71513}, {'article_number': '947903-E-71732', 'availability': 'Нет', 'name': 'Strawberry', 'city': 'Овьедо', 'price': 2008, 'color': 'Синий', 'quantity': 43, 'dimensions': '78x26x46', 'image_url': 'https://upload.product.org/727243.jpg', 'rating': 4.7, 'views': 43095}, {'article_number': '525153-E-83402', 'availability': 'Нет', 'name': 'Toothpaste', 'city': 'Пласенсия', 'price': 2596, 'color': 'Желтый', 'quantity': 59, 'dimensions': '21x59x52', 'image_url': 'https://upload.products.ru/733351.jpg', 'rating': 0.6, 'views': 68106}, {'article_number': '379946-K-33399', 'availability': 'Нет', 'name': 'Windows', 'city': 'Минск', 'price': 4235, 'color': 'Фиолетовый', 'quantity': 266, 'dimensions': '52x92x16', 'image_url': 'https://upload.product.com/819364.svg', 'rating': 1.5, 'views': 97605}, {'article_number': '155938-R-77133', 'availability': 'Нет', 'name': 'Cranberry', 'city': 'Ташкент', 'price': 2905, 'color': 'Желтый', 'quantity': 564, 'dimensions': '85x50x87', 'image_url': 'https://upload.product.com/495212.jpg', 'rating': 3.6, 'views': 13528}, {'article_number': '978353-O-86107', 'availability': 'Нет', 'name': 'Wheelbarrow', 'city': 'Сараево', 'price': 3879, 'color': 'Оранжевый', 'quantity': 251, 'dimensions': '41x29x73', 'image_url': 'https://upload.product.com/15907.webp', 'rating': 1.3, 'views': 47073}, {'article_number': '440699-O-78805', 'availability': 'Нет', 'name': 'Paint', 'city': 'Сантьяго-де-Компостела', 'price': 3307, 'color': 'Зеленый', 'quantity': 97, 'dimensions': '61x45x32', 'image_url': 'https://upload.product.org/248781.jpeg', 'rating': 4.3, 'views': 15995}, {'article_number': '627383-B-80733', 'availability': 'Нет', 'name': 'Ladder', 'city': 'Льейда', 'price': 4922, 'color': 'Зеленый', 'quantity': 537, 'dimensions': '17x84x82', 'image_url': 'https://upload.prod.xyz/731699.svg', 'rating': 2.7, 'views': 48405}, {'article_number': '254995-B-48322', 'availability': 'Да', 'name': 'Grapes', 'city': 'Семана', 'price': 2864, 'color': 'Голубой', 'quantity': 586, 'dimensions': '95x11x34', 'image_url': 'https://upload.product.com/85533.png', 'rating': 3.2, 'views': 61140}, {'article_number': '863811-R-16676', 'availability': 'Да', 'name': 'Doors', 'city': 'Эль-Пуэрто-де-Санта-Мария', 'price': 2290, 'color': 'Желтый', 'quantity': 635, 'dimensions': '44x65x80', 'image_url': 'https://upload.product.com/943457.svg', 'rating': 1.6, 'views': 37641}, {'article_number': '142817-O-19602', 'availability': 'Нет', 'name': 'Insulation', 'city': 'Астана', 'price': 18, 'color': 'Зеленый', 'quantity': 451, 'dimensions': '70x79x4', 'image_url': 'https://upload.prod.xyz/950779.webp', 'rating': 0.9, 'views': 70267}, {'article_number': '429289-E-70070', 'availability': 'Да', 'name': 'Serum', 'city': 'Сьюдад-Реаль', 'price': 3871, 'color': 'Желтый', 'quantity': 322, 'dimensions': '25x72x57', 'image_url': 'https://upload.product.org/678013.png', 'rating': 4.2, 'views': 50314}, {'article_number': '446924-D-91288', 'availability': 'Да', 'name': 'Plum', 'city': 'Валенсия', 'price': 622, 'color': 'Фиолетовый', 'quantity': 866, 'dimensions': '27x85x71', 'image_url': 'https://upload.products.ru/814788.jpeg', 'rating': 1.6, 'views': 50241}, {'article_number': '789955-D-59776', 'availability': 'Да', 'name': 'Cherry', 'city': 'Будапешт', 'price': 190, 'color': 'Красный', 'quantity': 576, 'dimensions': '82x57x80', 'image_url': 'https://upload.prod.xyz/791918.png', 'rating': 2.4, 'views': 67074}, {'article_number': '942152-H-60009', 'availability': 'Нет', 'name': 'Grapes', 'city': 'Камбадос', 'price': 1903, 'color': 'Желтый', 'quantity': 169, 'dimensions': '46x50x90', 'image_url': 'https://upload.products.ru/927050.jpg', 'rating': 5.0, 'views': 5606}, {'article_number': '755821-V-66620', 'availability': 'Нет', 'name': 'Flooring', 'city': 'Мерида', 'price': 464, 'color': 'Голубой', 'quantity': 611, 'dimensions': '21x89x76', 'image_url': 'https://upload.products.ru/266042.webp', 'rating': 1.0, 'views': 99591}, {'article_number': '219198-W-64873', 'availability': 'Нет', 'name': 'Orange', 'city': 'Тбилиси', 'price': 1396, 'color': 'Желтый', 'quantity': 494, 'dimensions': '36x97x15', 'image_url': 'https://upload.product.com/579858.jpg', 'rating': 2.4, 'views': 54771}, {'article_number': '252061-Y-64173', 'availability': 'Да', 'name': 'Night cream', 'city': 'Осера', 'price': 1965, 'color': 'Голубой', 'quantity': 839, 'dimensions': '83x3x55', 'image_url': 'https://upload.product.org/131642.jpeg', 'rating': 2.8, 'views': 47422}, {'article_number': '730116-Y-48879', 'availability': 'Нет', 'name': 'Pineapple', 'city': 'Осера', 'price': 3305, 'color': 'Красный', 'quantity': 25, 'dimensions': '2x64x87', 'image_url': 'https://upload.prod.xyz/560350.jpeg', 'rating': 4.3, 'views': 51332}, {'article_number': '890283-S-21331', 'availability': 'Нет', 'name': 'Face wash', 'city': 'Сьюдад-Реаль', 'price': 3973, 'color': 'Оранжевый', 'quantity': 559, 'dimensions': '47x63x23', 'image_url': 'https://upload.product.com/898662.png', 'rating': 2.7, 'views': 26607}, {'article_number': '565347-S-78498', 'availability': 'Нет', 'name': 'Peach', 'city': 'Мадрид', 'price': 1240, 'color': 'Зеленый', 'quantity': 182, 'dimensions': '66x16x74', 'image_url': 'https://upload.products.ru/460520.jpg', 'rating': 1.9, 'views': 83547}, {'article_number': '249716-O-48426', 'availability': 'Да', 'name': 'Night cream', 'city': 'Артейхо', 'price': 4746, 'color': 'Оранжевый', 'quantity': 638, 'dimensions': '89x15x1', 'image_url': 'https://upload.products.ru/958412.webp', 'rating': 3.3, 'views': 98738}, {'article_number': '246882-J-81037', 'availability': 'Нет', 'name': 'Shampoo', 'city': 'Кадакес', 'price': 632, 'color': 'Фиолетовый', 'quantity': 920, 'dimensions': '61x35x40', 'image_url': 'https://upload.products.ru/949071.svg', 'rating': 1.1, 'views': 9954}, {'article_number': '969561-Y-88075', 'availability': 'Да', 'name': 'Makeup remover', 'city': 'Тудела', 'price': 4839, 'color': 'Желтый', 'quantity': 329, 'dimensions': '97x83x8', 'image_url': 'https://upload.prod.xyz/179778.jpg', 'rating': 1.4, 'views': 96988}, {'article_number': '363807-A-61577', 'availability': 'Нет', 'name': 'Orange', 'city': 'Белград', 'price': 614, 'color': 'Желтый', 'quantity': 987, 'dimensions': '27x41x33', 'image_url': 'https://upload.products.ru/46357.png', 'rating': 4.4, 'views': 73092}, {'article_number': '333365-D-95888', 'availability': 'Нет', 'name': 'Night cream', 'city': 'Вильнюс', 'price': 2853, 'color': 'Красный', 'quantity': 417, 'dimensions': '67x23x70', 'image_url': 'https://upload.all-prod.it/198322.jpg', 'rating': 4.5, 'views': 44996}, {'article_number': '754053-A-97331', 'availability': 'Да', 'name': 'Shampoo', 'city': 'Гранада', 'price': 1255, 'color': 'Голубой', 'quantity': 601, 'dimensions': '71x88x54', 'image_url': 'https://upload.all-prod.it/969855.svg', 'rating': 3.7, 'views': 2857}, {'article_number': '756535-R-90648', 'availability': 'Да', 'name': 'Moustache wax', 'city': 'Малага', 'price': 2227, 'color': 'Фиолетовый', 'quantity': 396, 'dimensions': '96x5x62', 'image_url': 'https://upload.product.com/913272.webp', 'rating': 2.1, 'views': 46009}, {'article_number': '58257-K-90612', 'availability': 'Нет', 'name': 'Doors', 'city': 'Фигерас', 'price': 1043, 'color': 'Голубой', 'quantity': 708, 'dimensions': '3x66x75', 'image_url': 'https://upload.product.org/74252.jpeg', 'rating': 0.2, 'views': 77662}, {'article_number': '465002-J-95785', 'availability': 'Да', 'name': 'Strawberry', 'city': 'Мурсия', 'price': 1727, 'color': 'Синий', 'quantity': 562, 'dimensions': '26x80x35', 'image_url': 'https://upload.product.org/18474.jpg', 'rating': 1.4, 'views': 34947}, {'article_number': '96062-V-83179', 'availability': 'Да', 'name': 'Baseboard', 'city': 'Хельсинки', 'price': 4317, 'color': 'Красный', 'quantity': 29, 'dimensions': '58x14x75', 'image_url': 'https://upload.prod.xyz/943942.svg', 'rating': 4.0, 'views': 48484}, {'article_number': '644206-G-93640', 'availability': 'Нет', 'name': 'Papaya', 'city': 'Варшава', 'price': 2855, 'color': 'Голубой', 'quantity': 522, 'dimensions': '15x22x28', 'image_url': 'https://upload.all-prod.it/388187.jpg', 'rating': 0.5, 'views': 8874}, {'article_number': '661396-H-74319', 'availability': 'Да', 'name': 'Trim', 'city': 'Овьедо', 'price': 636, 'color': 'Красный', 'quantity': 477, 'dimensions': '77x73x93', 'image_url': 'https://upload.product.com/174222.jpeg', 'rating': 1.6, 'views': 92364}, {'article_number': '641165-L-17902', 'availability': 'Нет', 'name': 'Axe', 'city': 'Барселона', 'price': 1459, 'color': 'Голубой', 'quantity': 814, 'dimensions': '58x78x54', 'image_url': 'https://upload.products.ru/506231.webp', 'rating': 1.7, 'views': 25188}, {'article_number': '943820-Q-41385', 'availability': 'Да', 'name': 'Papaya', 'city': 'Сория', 'price': 1457, 'color': 'Зеленый', 'quantity': 42, 'dimensions': '48x61x49', 'image_url': 'https://upload.prod.xyz/569673.svg', 'rating': 4.9, 'views': 25493}, {'article_number': '14834-C-25423', 'availability': 'Да', 'name': 'Screws', 'city': 'Семана', 'price': 3480, 'color': 'Синий', 'quantity': 445, 'dimensions': '46x51x18', 'image_url': 'https://upload.prod.xyz/625825.jpeg', 'rating': 4.5, 'views': 20086}, {'article_number': '891699-P-72074', 'availability': 'Да', 'name': 'Banana', 'city': 'Мартоса', 'price': 2014, 'color': 'Синий', 'quantity': 733, 'dimensions': '27x82x31', 'image_url': 'https://upload.products.ru/905613.jpeg', 'rating': 5.0, 'views': 21555}, {'article_number': '443565-W-65174', 'availability': 'Нет', 'name': 'Roofing', 'city': 'Москва', 'price': 1061, 'color': 'Голубой', 'quantity': 624, 'dimensions': '76x41x52', 'image_url': 'https://upload.product.com/415724.jpg', 'rating': 0.7, 'views': 46911}, {'article_number': '15186-L-10061', 'availability': 'Нет', 'name': 'Nails', 'city': 'Бильбао', 'price': 4694, 'color': 'Фиолетовый', 'quantity': 437, 'dimensions': '52x76x75', 'image_url': 'https://upload.product.com/410833.svg', 'rating': 1.5, 'views': 38620}, {'article_number': '900693-V-52278', 'availability': 'Да', 'name': 'Shovel', 'city': 'Будапешт', 'price': 1026, 'color': 'Синий', 'quantity': 911, 'dimensions': '84x67x86', 'image_url': 'https://upload.prod.xyz/935662.jpg', 'rating': 4.8, 'views': 92198}, {'article_number': '559093-I-32210', 'availability': 'Нет', 'name': 'Flooring', 'city': 'Мартоса', 'price': 4500, 'color': 'Оранжевый', 'quantity': 235, 'dimensions': '67x61x4', 'image_url': 'https://upload.product.com/786205.png', 'rating': 0.9, 'views': 11904}, {'article_number': '94244-C-70345', 'availability': 'Нет', 'name': 'Wheelbarrow', 'city': 'Тарраса', 'price': 3775, 'color': 'Фиолетовый', 'quantity': 701, 'dimensions': '6x88x3', 'image_url': 'https://upload.products.ru/422102.svg', 'rating': 2.1, 'views': 55325}, {'article_number': '217314-M-93056', 'availability': 'Нет', 'name': 'Shovel', 'city': 'Сория', 'price': 1227, 'color': 'Синий', 'quantity': 408, 'dimensions': '8x84x93', 'image_url': 'https://upload.product.com/635607.webp', 'rating': 3.5, 'views': 14519}, {'article_number': '202473-X-98423', 'availability': 'Нет', 'name': 'Strawberry', 'city': 'Алькала-де-Энарес', 'price': 2443, 'color': 'Желтый', 'quantity': 279, 'dimensions': '79x59x20', 'image_url': 'https://upload.prod.xyz/319151.svg', 'rating': 1.7, 'views': 83104}, {'article_number': '146230-R-26637', 'availability': 'Да', 'name': 'Sunscreen', 'city': 'Эль-Пуэрто-де-Санта-Мария', 'price': 763, 'color': 'Желтый', 'quantity': 273, 'dimensions': '11x18x24', 'image_url': 'https://upload.product.com/221639.jpg', 'rating': 2.8, 'views': 23193}, {'article_number': '654341-V-85662', 'availability': 'Нет', 'name': 'Paint', 'city': 'Малага', 'price': 2643, 'color': 'Желтый', 'quantity': 369, 'dimensions': '45x86x87', 'image_url': 'https://upload.product.org/850557.webp', 'rating': 0.7, 'views': 24580}, {'article_number': '598545-Q-27287', 'availability': 'Нет', 'name': 'Moisturizer', 'city': 'Луарка', 'price': 3435, 'color': 'Красный', 'quantity': 484, 'dimensions': '22x45x92', 'image_url': 'https://upload.prod.xyz/375403.svg', 'rating': 1.3, 'views': 42685}, {'article_number': '229958-H-55820', 'availability': 'Да', 'name': 'Siding', 'city': 'Монсон', 'price': 2482, 'color': 'Голубой', 'quantity': 913, 'dimensions': '92x69x93', 'image_url': 'https://upload.all-prod.it/803316.webp', 'rating': 0.3, 'views': 8015}, {'article_number': '701404-N-64629', 'availability': 'Нет', 'name': 'Flooring', 'city': 'Картахена', 'price': 3726, 'color': 'Желтый', 'quantity': 105, 'dimensions': '70x58x21', 'image_url': 'https://upload.product.com/516134.webp', 'rating': 1.3, 'views': 74557}, {'article_number': '613344-D-21944', 'availability': 'Нет', 'name': 'Moustache wax', 'city': 'Тбилиси', 'price': 528, 'color': 'Зеленый', 'quantity': 181, 'dimensions': '30x47x29', 'image_url': 'https://upload.products.ru/119275.svg', 'rating': 5.0, 'views': 26196}, {'article_number': '772332-T-96895', 'availability': 'Да', 'name': 'Scaffolding', 'city': 'Афины', 'price': 1069, 'color': 'Желтый', 'quantity': 592, 'dimensions': '78x12x45', 'image_url': 'https://upload.product.org/65105.jpg', 'rating': 3.2, 'views': 2036}, {'article_number': '266986-T-31147', 'availability': 'Нет', 'name': 'Lotion', 'city': 'Мартоса', 'price': 2180, 'color': 'Зеленый', 'quantity': 317, 'dimensions': '62x58x69', 'image_url': 'https://upload.prod.xyz/475624.jpeg', 'rating': 2.7, 'views': 86895}, {'article_number': '789271-I-37313', 'availability': 'Нет', 'name': 'Wallpaper', 'city': 'Осера', 'price': 2117, 'color': 'Желтый', 'quantity': 80, 'dimensions': '3x33x66', 'image_url': 'https://upload.product.org/655806.jpeg', 'rating': 1.8, 'views': 21501}, {'article_number': '349601-D-74616', 'availability': 'Да', 'name': 'Shovel', 'city': 'Санхенхо', 'price': 3683, 'color': 'Голубой', 'quantity': 119, 'dimensions': '22x80x26', 'image_url': 'https://upload.product.com/755004.jpg', 'rating': 1.3, 'views': 99375}, {'article_number': '292430-M-16475', 'availability': 'Нет', 'name': 'Grapes', 'city': 'Прага', 'price': 3499, 'color': 'Голубой', 'quantity': 106, 'dimensions': '23x9x37', 'image_url': 'https://upload.prod.xyz/887100.jpeg', 'rating': 3.0, 'views': 4245}, {'article_number': '372498-R-18859', 'availability': 'Да', 'name': 'Blackberry', 'city': 'Варшава', 'price': 1633, 'color': 'Зеленый', 'quantity': 787, 'dimensions': '61x54x42', 'image_url': 'https://upload.all-prod.it/534593.jpg', 'rating': 3.8, 'views': 85922}, {'article_number': '412846-X-76921', 'availability': 'Да', 'name': 'Wheelbarrow', 'city': 'Овьедо', 'price': 2343, 'color': 'Зеленый', 'quantity': 671, 'dimensions': '87x24x15', 'image_url': 'https://upload.all-prod.it/685370.png', 'rating': 0.7, 'views': 24737}, {'article_number': '730535-V-91856', 'availability': 'Да', 'name': 'Trim', 'city': 'Пласенсия', 'price': 2472, 'color': 'Желтый', 'quantity': 353, 'dimensions': '68x60x87', 'image_url': 'https://upload.prod.xyz/690214.webp', 'rating': 0.2, 'views': 94753}, {'article_number': '144814-R-86635', 'availability': 'Нет', 'name': 'Makeup remover', 'city': 'Вильнюс', 'price': 4363, 'color': 'Фиолетовый', 'quantity': 917, 'dimensions': '85x12x3', 'image_url': 'https://upload.product.org/701385.jpeg', 'rating': 1.7, 'views': 71803}, {'article_number': '615475-P-80701', 'availability': 'Да', 'name': 'Perfume', 'city': 'Минск', 'price': 168, 'color': 'Синий', 'quantity': 545, 'dimensions': '13x39x20', 'image_url': 'https://upload.product.com/156939.svg', 'rating': 4.3, 'views': 67248}, {'article_number': '951485-T-60148', 'availability': 'Нет', 'name': 'Melon', 'city': 'Бишкек', 'price': 2881, 'color': 'Фиолетовый', 'quantity': 162, 'dimensions': '11x59x45', 'image_url': 'https://upload.product.org/656023.jpeg', 'rating': 3.1, 'views': 13949}]\n"
     ]
    }
   ],
   "source": [
    "items = []\n",
    "for i in range(76):\n",
    "    items.append(handle_file(fr\"C:\\Users\\ipavl\\Учеба_УРФУ\\1_курс\\1_семестр\\ИД\\Practice_3\\86\\1\\{i+2}.html\"))\n",
    "print(items)"
   ]
  },
  {
   "cell_type": "code",
   "execution_count": 57,
   "id": "ad8344b9-c57f-4656-8045-80293de1131b",
   "metadata": {},
   "outputs": [
    {
     "data": {
      "text/html": [
       "<div>\n",
       "<style scoped>\n",
       "    .dataframe tbody tr th:only-of-type {\n",
       "        vertical-align: middle;\n",
       "    }\n",
       "\n",
       "    .dataframe tbody tr th {\n",
       "        vertical-align: top;\n",
       "    }\n",
       "\n",
       "    .dataframe thead th {\n",
       "        text-align: right;\n",
       "    }\n",
       "</style>\n",
       "<table border=\"1\" class=\"dataframe\">\n",
       "  <thead>\n",
       "    <tr style=\"text-align: right;\">\n",
       "      <th></th>\n",
       "      <th>article_number</th>\n",
       "      <th>availability</th>\n",
       "      <th>name</th>\n",
       "      <th>city</th>\n",
       "      <th>price</th>\n",
       "      <th>color</th>\n",
       "      <th>quantity</th>\n",
       "      <th>dimensions</th>\n",
       "      <th>image_url</th>\n",
       "      <th>rating</th>\n",
       "      <th>views</th>\n",
       "    </tr>\n",
       "  </thead>\n",
       "  <tbody>\n",
       "    <tr>\n",
       "      <th>0</th>\n",
       "      <td>561902-H-29808</td>\n",
       "      <td>Нет</td>\n",
       "      <td>Moisturizer</td>\n",
       "      <td>Тбилиси</td>\n",
       "      <td>1231</td>\n",
       "      <td>Желтый</td>\n",
       "      <td>681</td>\n",
       "      <td>5x66x76</td>\n",
       "      <td>https://upload.products.ru/872873.webp</td>\n",
       "      <td>0.7</td>\n",
       "      <td>87579</td>\n",
       "    </tr>\n",
       "    <tr>\n",
       "      <th>1</th>\n",
       "      <td>972220-X-10872</td>\n",
       "      <td>Нет</td>\n",
       "      <td>Blueberry</td>\n",
       "      <td>Бильбао</td>\n",
       "      <td>2446</td>\n",
       "      <td>Желтый</td>\n",
       "      <td>178</td>\n",
       "      <td>49x76x76</td>\n",
       "      <td>https://upload.products.ru/633656.webp</td>\n",
       "      <td>1.3</td>\n",
       "      <td>84561</td>\n",
       "    </tr>\n",
       "    <tr>\n",
       "      <th>2</th>\n",
       "      <td>563490-Y-46312</td>\n",
       "      <td>Да</td>\n",
       "      <td>Blackberry</td>\n",
       "      <td>Луарка</td>\n",
       "      <td>3375</td>\n",
       "      <td>Оранжевый</td>\n",
       "      <td>152</td>\n",
       "      <td>9x37x84</td>\n",
       "      <td>https://upload.product.org/723763.jpg</td>\n",
       "      <td>2.9</td>\n",
       "      <td>44222</td>\n",
       "    </tr>\n",
       "    <tr>\n",
       "      <th>3</th>\n",
       "      <td>128064-U-50096</td>\n",
       "      <td>Да</td>\n",
       "      <td>Facial cleanser</td>\n",
       "      <td>Кадакес</td>\n",
       "      <td>3850</td>\n",
       "      <td>Голубой</td>\n",
       "      <td>387</td>\n",
       "      <td>31x94x84</td>\n",
       "      <td>https://upload.products.ru/393467.png</td>\n",
       "      <td>4.1</td>\n",
       "      <td>85437</td>\n",
       "    </tr>\n",
       "    <tr>\n",
       "      <th>4</th>\n",
       "      <td>335834-Y-33471</td>\n",
       "      <td>Нет</td>\n",
       "      <td>Raspberry</td>\n",
       "      <td>Баку</td>\n",
       "      <td>3219</td>\n",
       "      <td>Красный</td>\n",
       "      <td>72</td>\n",
       "      <td>77x49x40</td>\n",
       "      <td>https://upload.product.com/480984.svg</td>\n",
       "      <td>0.1</td>\n",
       "      <td>39964</td>\n",
       "    </tr>\n",
       "  </tbody>\n",
       "</table>\n",
       "</div>"
      ],
      "text/plain": [
       "   article_number availability             name     city  price      color  \\\n",
       "0  561902-H-29808          Нет      Moisturizer  Тбилиси   1231     Желтый   \n",
       "1  972220-X-10872          Нет        Blueberry  Бильбао   2446     Желтый   \n",
       "2  563490-Y-46312           Да       Blackberry   Луарка   3375  Оранжевый   \n",
       "3  128064-U-50096           Да  Facial cleanser  Кадакес   3850    Голубой   \n",
       "4  335834-Y-33471          Нет        Raspberry     Баку   3219    Красный   \n",
       "\n",
       "   quantity dimensions                               image_url  rating  views  \n",
       "0       681    5x66x76  https://upload.products.ru/872873.webp     0.7  87579  \n",
       "1       178   49x76x76  https://upload.products.ru/633656.webp     1.3  84561  \n",
       "2       152    9x37x84   https://upload.product.org/723763.jpg     2.9  44222  \n",
       "3       387   31x94x84   https://upload.products.ru/393467.png     4.1  85437  \n",
       "4        72   77x49x40   https://upload.product.com/480984.svg     0.1  39964  "
      ]
     },
     "execution_count": 57,
     "metadata": {},
     "output_type": "execute_result"
    }
   ],
   "source": [
    "df = pd.json_normalize(items)\n",
    "df.head(5)"
   ]
  },
  {
   "cell_type": "markdown",
   "id": "933a1f4a-6bdd-4f89-8053-e988ec80ca15",
   "metadata": {},
   "source": [
    "Выведем статистические показатели для всех числовых признаков"
   ]
  },
  {
   "cell_type": "code",
   "execution_count": 58,
   "id": "94de8589-4ba9-4b3b-ae4d-333151b2ef8a",
   "metadata": {},
   "outputs": [
    {
     "data": {
      "text/html": [
       "<div>\n",
       "<style scoped>\n",
       "    .dataframe tbody tr th:only-of-type {\n",
       "        vertical-align: middle;\n",
       "    }\n",
       "\n",
       "    .dataframe tbody tr th {\n",
       "        vertical-align: top;\n",
       "    }\n",
       "\n",
       "    .dataframe thead th {\n",
       "        text-align: right;\n",
       "    }\n",
       "</style>\n",
       "<table border=\"1\" class=\"dataframe\">\n",
       "  <thead>\n",
       "    <tr style=\"text-align: right;\">\n",
       "      <th></th>\n",
       "      <th>price</th>\n",
       "      <th>quantity</th>\n",
       "      <th>rating</th>\n",
       "      <th>views</th>\n",
       "    </tr>\n",
       "  </thead>\n",
       "  <tbody>\n",
       "    <tr>\n",
       "      <th>count</th>\n",
       "      <td>76.000000</td>\n",
       "      <td>76.000000</td>\n",
       "      <td>76.000000</td>\n",
       "      <td>76.000000</td>\n",
       "    </tr>\n",
       "    <tr>\n",
       "      <th>mean</th>\n",
       "      <td>2574.907895</td>\n",
       "      <td>439.131579</td>\n",
       "      <td>2.444737</td>\n",
       "      <td>51038.934211</td>\n",
       "    </tr>\n",
       "    <tr>\n",
       "      <th>std</th>\n",
       "      <td>1366.274215</td>\n",
       "      <td>266.764083</td>\n",
       "      <td>1.476337</td>\n",
       "      <td>29032.306344</td>\n",
       "    </tr>\n",
       "    <tr>\n",
       "      <th>min</th>\n",
       "      <td>18.000000</td>\n",
       "      <td>5.000000</td>\n",
       "      <td>0.100000</td>\n",
       "      <td>2036.000000</td>\n",
       "    </tr>\n",
       "    <tr>\n",
       "      <th>25%</th>\n",
       "      <td>1360.750000</td>\n",
       "      <td>190.250000</td>\n",
       "      <td>1.300000</td>\n",
       "      <td>25075.250000</td>\n",
       "    </tr>\n",
       "    <tr>\n",
       "      <th>50%</th>\n",
       "      <td>2613.500000</td>\n",
       "      <td>448.000000</td>\n",
       "      <td>2.250000</td>\n",
       "      <td>48444.500000</td>\n",
       "    </tr>\n",
       "    <tr>\n",
       "      <th>75%</th>\n",
       "      <td>3693.750000</td>\n",
       "      <td>624.750000</td>\n",
       "      <td>3.700000</td>\n",
       "      <td>74428.750000</td>\n",
       "    </tr>\n",
       "    <tr>\n",
       "      <th>max</th>\n",
       "      <td>4957.000000</td>\n",
       "      <td>987.000000</td>\n",
       "      <td>5.000000</td>\n",
       "      <td>99591.000000</td>\n",
       "    </tr>\n",
       "  </tbody>\n",
       "</table>\n",
       "</div>"
      ],
      "text/plain": [
       "             price    quantity     rating         views\n",
       "count    76.000000   76.000000  76.000000     76.000000\n",
       "mean   2574.907895  439.131579   2.444737  51038.934211\n",
       "std    1366.274215  266.764083   1.476337  29032.306344\n",
       "min      18.000000    5.000000   0.100000   2036.000000\n",
       "25%    1360.750000  190.250000   1.300000  25075.250000\n",
       "50%    2613.500000  448.000000   2.250000  48444.500000\n",
       "75%    3693.750000  624.750000   3.700000  74428.750000\n",
       "max    4957.000000  987.000000   5.000000  99591.000000"
      ]
     },
     "execution_count": 58,
     "metadata": {},
     "output_type": "execute_result"
    }
   ],
   "source": [
    "df.describe()"
   ]
  },
  {
   "cell_type": "markdown",
   "id": "cc316b45-f059-4e2e-90e5-4d222a6bd20a",
   "metadata": {},
   "source": [
    "Статистические показатели для столбца views"
   ]
  },
  {
   "cell_type": "code",
   "execution_count": 59,
   "id": "5ee19c73-3d68-40f7-b0ad-b287294b4f00",
   "metadata": {},
   "outputs": [
    {
     "name": "stdout",
     "output_type": "stream",
     "text": [
      "Среднее значение: 51038.93421052631\n",
      "Максимальное значение: 99591\n",
      "Минимальное значение: 2036\n",
      "std: 29032.306344179422\n",
      "Количество продукта: 76\n"
     ]
    }
   ],
   "source": [
    "print(f\"Среднее значение: {df['views'].mean()}\")\n",
    "print(f\"Максимальное значение: {df['views'].max()}\")\n",
    "print(f\"Минимальное значение: {df['views'].min()}\")\n",
    "print(f\"std: {df['views'].std()}\")\n",
    "print(f\"Количество продукта: {df['views'].count()}\")"
   ]
  },
  {
   "cell_type": "markdown",
   "id": "7604e3b8-5f31-4241-a36a-1fe9d4dbdfdf",
   "metadata": {},
   "source": [
    "Отсортируем значения по одному из доступных полей"
   ]
  },
  {
   "cell_type": "code",
   "execution_count": 60,
   "id": "e1554f8d-fc2d-4631-86af-dcd18364a990",
   "metadata": {},
   "outputs": [
    {
     "name": "stdout",
     "output_type": "stream",
     "text": [
      "    article_number availability             name          city  price  \\\n",
      "3   128064-U-50096           Да  Facial cleanser       Кадакес   3850   \n",
      "14  356415-O-14725           Да   Makeup remover        Малага   4482   \n",
      "23  254995-B-48322           Да           Grapes        Семана   2864   \n",
      "26  429289-E-70070           Да            Serum  Сьюдад-Реаль   3871   \n",
      "36  249716-O-48426           Да      Night cream       Артейхо   4746   \n",
      "41  754053-A-97331           Да          Shampoo       Гранада   1255   \n",
      "45   96062-V-83179           Да        Baseboard     Хельсинки   4317   \n",
      "49  943820-Q-41385           Да           Papaya         Сория   1457   \n",
      "50   14834-C-25423           Да           Screws        Семана   3480   \n",
      "51  891699-P-72074           Да           Banana       Мартоса   2014   \n",
      "54  900693-V-52278           Да           Shovel      Будапешт   1026   \n",
      "65  772332-T-96895           Да      Scaffolding         Афины   1069   \n",
      "70  372498-R-18859           Да       Blackberry       Варшава   1633   \n",
      "74  615475-P-80701           Да          Perfume         Минск    168   \n",
      "\n",
      "        color  quantity dimensions                               image_url  \\\n",
      "3     Голубой       387   31x94x84   https://upload.products.ru/393467.png   \n",
      "14  Оранжевый       504   91x47x64      https://upload.prod.xyz/700063.jpg   \n",
      "23    Голубой       586   95x11x34    https://upload.product.com/85533.png   \n",
      "26     Желтый       322   25x72x57   https://upload.product.org/678013.png   \n",
      "36  Оранжевый       638    89x15x1  https://upload.products.ru/958412.webp   \n",
      "41    Голубой       601   71x88x54   https://upload.all-prod.it/969855.svg   \n",
      "45    Красный        29   58x14x75      https://upload.prod.xyz/943942.svg   \n",
      "49    Зеленый        42   48x61x49      https://upload.prod.xyz/569673.svg   \n",
      "50      Синий       445   46x51x18     https://upload.prod.xyz/625825.jpeg   \n",
      "51      Синий       733   27x82x31  https://upload.products.ru/905613.jpeg   \n",
      "54      Синий       911   84x67x86      https://upload.prod.xyz/935662.jpg   \n",
      "65     Желтый       592   78x12x45    https://upload.product.org/65105.jpg   \n",
      "70    Зеленый       787   61x54x42   https://upload.all-prod.it/534593.jpg   \n",
      "74      Синий       545   13x39x20   https://upload.product.com/156939.svg   \n",
      "\n",
      "    rating  views  \n",
      "3      4.1  85437  \n",
      "14     3.7  11826  \n",
      "23     3.2  61140  \n",
      "26     4.2  50314  \n",
      "36     3.3  98738  \n",
      "41     3.7   2857  \n",
      "45     4.0  48484  \n",
      "49     4.9  25493  \n",
      "50     4.5  20086  \n",
      "51     5.0  21555  \n",
      "54     4.8  92198  \n",
      "65     3.2   2036  \n",
      "70     3.8  85922  \n",
      "74     4.3  67248  \n"
     ]
    }
   ],
   "source": [
    "filter_1 = df.loc[(df[\"rating\"] > 3) & (df[\"availability\"] == 'Да')]\n",
    "print(filter_1)"
   ]
  },
  {
   "cell_type": "markdown",
   "id": "7dcc7f6a-bdf4-453b-ab50-235d844c8c6a",
   "metadata": {},
   "source": [
    "Выполним фильтрацию по другому полю"
   ]
  },
  {
   "cell_type": "code",
   "execution_count": 61,
   "id": "cd4fd94e-6722-4cd2-8dea-81aa278c8e80",
   "metadata": {},
   "outputs": [
    {
     "name": "stdout",
     "output_type": "stream",
     "text": [
      "    article_number availability         name     city  price    color  \\\n",
      "70  372498-R-18859           Да   Blackberry  Варшава   1633  Зеленый   \n",
      "71  412846-X-76921           Да  Wheelbarrow   Овьедо   2343  Зеленый   \n",
      "\n",
      "    quantity dimensions                              image_url  rating  views  \n",
      "70       787   61x54x42  https://upload.all-prod.it/534593.jpg     3.8  85922  \n",
      "71       671   87x24x15  https://upload.all-prod.it/685370.png     0.7  24737  \n"
     ]
    }
   ],
   "source": [
    "filter_2 = df.loc[(df['color'] == 'Зеленый') & (df['quantity'] > 600)]\n",
    "print(filter_2)"
   ]
  },
  {
   "cell_type": "markdown",
   "id": "47936d55-7b46-477d-ac5c-f7876b43adeb",
   "metadata": {},
   "source": [
    "Для одного текстового поля посчитаем частоту меток"
   ]
  },
  {
   "cell_type": "code",
   "execution_count": 62,
   "id": "8914812e-f389-42d5-83cc-1716dab7cbc1",
   "metadata": {},
   "outputs": [
    {
     "name": "stdout",
     "output_type": "stream",
     "text": [
      "color\n",
      "Желтый        19\n",
      "Голубой       14\n",
      "Синий         10\n",
      "Зеленый       10\n",
      "Фиолетовый    10\n",
      "Красный        7\n",
      "Оранжевый      6\n",
      "Name: count, dtype: int64\n"
     ]
    }
   ],
   "source": [
    "freq = df['color'].value_counts()\n",
    "print(freq)"
   ]
  },
  {
   "cell_type": "markdown",
   "id": "2bb08eb8-68be-43b7-ab8c-58fe9db12880",
   "metadata": {},
   "source": [
    "Сохраним полученные данные в JSON формате"
   ]
  },
  {
   "cell_type": "code",
   "execution_count": 64,
   "id": "5f495fdf-a140-4e2f-94a6-a5d660beab14",
   "metadata": {},
   "outputs": [],
   "source": [
    "with open(\"first_task\", \"w\", encoding = \"utf-8\") as f:\n",
    "    json.dump(items, f, ensure_ascii=False)"
   ]
  },
  {
   "cell_type": "code",
   "execution_count": null,
   "id": "35b36e25-d7ce-4a0a-b517-dc02dc9ba70d",
   "metadata": {},
   "outputs": [],
   "source": []
  }
 ],
 "metadata": {
  "kernelspec": {
   "display_name": "Python 3 (ipykernel)",
   "language": "python",
   "name": "python3"
  },
  "language_info": {
   "codemirror_mode": {
    "name": "ipython",
    "version": 3
   },
   "file_extension": ".py",
   "mimetype": "text/x-python",
   "name": "python",
   "nbconvert_exporter": "python",
   "pygments_lexer": "ipython3",
   "version": "3.12.2"
  }
 },
 "nbformat": 4,
 "nbformat_minor": 5
}
